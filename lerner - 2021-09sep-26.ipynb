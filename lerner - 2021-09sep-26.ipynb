{
 "cells": [
  {
   "cell_type": "markdown",
   "metadata": {},
   "source": [
    "# Agenda — Functional Python\n",
    "\n",
    "1. What is functional programming?\n",
    "2. Functions as data (as nouns)\n",
    "3. Storing functions \n",
    "4. Partial functions\n",
    "5. Single dispatch\n",
    "6. `lambda`\n",
    "7. The `operator` module\n",
    "8. `map`, `filter`, and `reduce`"
   ]
  },
  {
   "cell_type": "markdown",
   "metadata": {},
   "source": [
    "# What is functional programming?\n",
    "\n",
    "In programming, we use terms like \"function\" and \"variable\" which come from the world of mathematics. But of course, functions in the programming world and functions in the math world aren't the same.  For example, functions in the programming world can assign to variables, can modify state, can be procedures -- executing things -- not just pure functions that return values.  Variables are similarly problemat"
   ]
  }
 ],
 "metadata": {
  "kernelspec": {
   "display_name": "Python 3",
   "language": "python",
   "name": "python3"
  },
  "language_info": {
   "codemirror_mode": {
    "name": "ipython",
    "version": 3
   },
   "file_extension": ".py",
   "mimetype": "text/x-python",
   "name": "python",
   "nbconvert_exporter": "python",
   "pygments_lexer": "ipython3",
   "version": "3.9.7"
  }
 },
 "nbformat": 4,
 "nbformat_minor": 4
}
