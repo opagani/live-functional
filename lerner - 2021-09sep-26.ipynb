{
 "cells": [
  {
   "cell_type": "markdown",
   "metadata": {},
   "source": [
    "# Agenda — Functional Python\n",
    "\n",
    "1. What is functional programming?\n",
    "2. Functions as data (as nouns)\n",
    "3. Storing functions \n",
    "4. Partial functions\n",
    "5. Single dispatch\n",
    "6. `lambda`\n",
    "7. The `operator` module\n",
    "8. `map`, `filter`, and `reduce`"
   ]
  },
  {
   "cell_type": "markdown",
   "metadata": {},
   "source": [
    "# What is functional programming?\n",
    "\n",
    "In programming, we use terms like \"function\" and \"variable\" which come from the world of mathematics. But of course, functions in the programming world and functions in the math world aren't the same.  For example, functions in the programming world can assign to variables, can modify state, can be procedures -- executing things -- not just pure functions that return values.  Variables are similarly problematic if you're a mathematicitian, because you can assign to a variable, and you can take a list variable and modify one of its elements -- that is, data is often mutable.\n",
    "\n",
    "Functional programming was an attempt to make programming more mathematical:\n",
    "- Let's treat data as immutable, to greatest degree possible.\n",
    "- Let's also avoid assigning to variables as much as possible, especially re-assigning, and even more especially inside of functions.\n",
    "- Let's avoid assignment in functions, as well as too many paths\n",
    "- Let's treat functions not just as verbs (i.e., things you can execute), but also as nouns (i.e., as data which you can store, pass around, and use like other data)"
   ]
  },
  {
   "cell_type": "markdown",
   "metadata": {},
   "source": [
    "# Functions as nouns\n",
    "\n",
    "Python functions are objects, just like everything else."
   ]
  },
  {
   "cell_type": "code",
   "execution_count": 1,
   "metadata": {},
   "outputs": [
    {
     "data": {
      "text/plain": [
       "4"
      ]
     },
     "execution_count": 1,
     "metadata": {},
     "output_type": "execute_result"
    }
   ],
   "source": [
    "s = 'abcd'\n",
    "x = len(s)  # run the function \"len\" on the string s, and get a result\n",
    "\n",
    "x"
   ]
  },
  {
   "cell_type": "code",
   "execution_count": 2,
   "metadata": {},
   "outputs": [
    {
     "data": {
      "text/plain": [
       "int"
      ]
     },
     "execution_count": 2,
     "metadata": {},
     "output_type": "execute_result"
    }
   ],
   "source": [
    "type(x)"
   ]
  },
  {
   "cell_type": "code",
   "execution_count": 4,
   "metadata": {},
   "outputs": [
    {
     "data": {
      "text/plain": [
       "'ABCD'"
      ]
     },
     "execution_count": 4,
     "metadata": {},
     "output_type": "execute_result"
    }
   ],
   "source": [
    "x = s.upper()   # we're running the method \"upper\" on the string s\n",
    "\n",
    "x\n"
   ]
  },
  {
   "cell_type": "code",
   "execution_count": 5,
   "metadata": {},
   "outputs": [
    {
     "data": {
      "text/plain": [
       "str"
      ]
     },
     "execution_count": 5,
     "metadata": {},
     "output_type": "execute_result"
    }
   ],
   "source": [
    "type(x)"
   ]
  },
  {
   "cell_type": "code",
   "execution_count": 6,
   "metadata": {},
   "outputs": [],
   "source": [
    "x = s.upper   # notice: no parentheses here!"
   ]
  },
  {
   "cell_type": "code",
   "execution_count": 7,
   "metadata": {},
   "outputs": [
    {
     "data": {
      "text/plain": [
       "<function str.upper()>"
      ]
     },
     "execution_count": 7,
     "metadata": {},
     "output_type": "execute_result"
    }
   ],
   "source": [
    "x   "
   ]
  },
  {
   "cell_type": "code",
   "execution_count": 8,
   "metadata": {},
   "outputs": [
    {
     "data": {
      "text/plain": [
       "builtin_function_or_method"
      ]
     },
     "execution_count": 8,
     "metadata": {},
     "output_type": "execute_result"
    }
   ],
   "source": [
    "type(x)"
   ]
  },
  {
   "cell_type": "code",
   "execution_count": 9,
   "metadata": {},
   "outputs": [
    {
     "data": {
      "text/plain": [
       "'ABCD'"
      ]
     },
     "execution_count": 9,
     "metadata": {},
     "output_type": "execute_result"
    }
   ],
   "source": [
    "x()"
   ]
  },
  {
   "cell_type": "code",
   "execution_count": 12,
   "metadata": {},
   "outputs": [
    {
     "data": {
      "text/plain": [
       "[49, 97, 53, 5, 33, 65, 62, 51, 100, 38]"
      ]
     },
     "execution_count": 12,
     "metadata": {},
     "output_type": "execute_result"
    }
   ],
   "source": [
    "import random\n",
    "\n",
    "random.seed(0)\n",
    "mylist = [random.randint(0, 100)\n",
    "          for i in range(10)]\n",
    "\n",
    "mylist"
   ]
  },
  {
   "cell_type": "code",
   "execution_count": 13,
   "metadata": {},
   "outputs": [],
   "source": [
    "# how can I sort this list of numbers?\n",
    "\n",
    "mylist.sort()   # this changes the list, so that it's sorted (increasing order), and it returns None"
   ]
  },
  {
   "cell_type": "code",
   "execution_count": 14,
   "metadata": {},
   "outputs": [
    {
     "data": {
      "text/plain": [
       "[5, 33, 38, 49, 51, 53, 62, 65, 97, 100]"
      ]
     },
     "execution_count": 14,
     "metadata": {},
     "output_type": "execute_result"
    }
   ],
   "source": [
    "mylist"
   ]
  },
  {
   "cell_type": "code",
   "execution_count": 15,
   "metadata": {},
   "outputs": [
    {
     "data": {
      "text/plain": [
       "[5, 33, 38, 49, 51, 53, 62, 65, 97, 100]"
      ]
     },
     "execution_count": 15,
     "metadata": {},
     "output_type": "execute_result"
    }
   ],
   "source": [
    "# using list.sort is somewhat passe.  Nowadays, it's considered weird or bad to modify\n",
    "# the list and sort it.\n",
    "\n",
    "# however, we have another option -- the function \"sorted\", which is functional -- it doesn't\n",
    "# modify its source, and does return a new list, based on the argument it got, sorted from low to high\n",
    "\n",
    "random.seed(0)\n",
    "mylist = [random.randint(0, 100)\n",
    "          for i in range(10)]\n",
    "\n",
    "sorted(mylist)"
   ]
  },
  {
   "cell_type": "code",
   "execution_count": 16,
   "metadata": {},
   "outputs": [
    {
     "data": {
      "text/plain": [
       "[49, 97, 53, 5, 33, 65, 62, 51, 100, 38]"
      ]
     },
     "execution_count": 16,
     "metadata": {},
     "output_type": "execute_result"
    }
   ],
   "source": [
    "mylist"
   ]
  },
  {
   "cell_type": "code",
   "execution_count": 17,
   "metadata": {},
   "outputs": [
    {
     "data": {
      "text/plain": [
       "['Python', 'This', 'a', 'bunch', 'course', 'for', 'is', 'my', 'of', 'words']"
      ]
     },
     "execution_count": 17,
     "metadata": {},
     "output_type": "execute_result"
    }
   ],
   "source": [
    "words = 'This is a bunch of words for my Python course'.split()\n",
    "\n",
    "sorted(words)  # returns a list of strings, based on words, from lowest to highest"
   ]
  },
  {
   "cell_type": "code",
   "execution_count": 18,
   "metadata": {},
   "outputs": [],
   "source": [
    "# I want to sort these words in ascending order *IGNORING* their case.\n",
    "# I want to keep their original capitalization, but sort them as if they were all lowercase\n",
    "\n",
    "# In order to do this, I am going to pass a function to \"sorted\" as an argument, \n",
    "# it's the \"key\" argument\n",
    "\n"
   ]
  },
  {
   "cell_type": "code",
   "execution_count": 19,
   "metadata": {},
   "outputs": [],
   "source": [
    "# normally, \"sorted\" looks at pairs of items in \"words\", and compares them \n",
    "# with one another, checking\n",
    "\n",
    "# A < B\n",
    "\n",
    "# what we want to do is as follows:\n",
    "\n",
    "# f(A) < f(B)\n",
    "\n",
    "# meaning: given a function f that can be applied to any two elements in mylist,\n",
    "# let's find out whether f(A) < f(B), and if so, make sure they're in the right order.\n",
    "\n"
   ]
  },
  {
   "cell_type": "code",
   "execution_count": 20,
   "metadata": {},
   "outputs": [
    {
     "data": {
      "text/plain": [
       "['a', 'bunch', 'course', 'for', 'is', 'my', 'of', 'Python', 'This', 'words']"
      ]
     },
     "execution_count": 20,
     "metadata": {},
     "output_type": "execute_result"
    }
   ],
   "source": [
    "# key will get a function as an argument\n",
    "# the function must take a single argument\n",
    "# \"sorted\" will invoke our function once on each element of \"words\"\n",
    "# \"sorted\" will use the result of our function on each element to decide how it sorts things\n",
    "\n",
    "sorted(words, key=str.lower)"
   ]
  },
  {
   "cell_type": "code",
   "execution_count": 21,
   "metadata": {},
   "outputs": [
    {
     "data": {
      "text/plain": [
       "['a', 'is', 'of', 'my', 'for', 'This', 'bunch', 'words', 'Python', 'course']"
      ]
     },
     "execution_count": 21,
     "metadata": {},
     "output_type": "execute_result"
    }
   ],
   "source": [
    "# sort the words in \"words\" by length\n",
    "\n",
    "sorted(words, key=len)"
   ]
  },
  {
   "cell_type": "code",
   "execution_count": 22,
   "metadata": {},
   "outputs": [
    {
     "name": "stdout",
     "output_type": "stream",
     "text": [
      "Now checking This\n",
      "Now checking is\n",
      "Now checking a\n",
      "Now checking bunch\n",
      "Now checking of\n",
      "Now checking words\n",
      "Now checking for\n",
      "Now checking my\n",
      "Now checking Python\n",
      "Now checking course\n"
     ]
    },
    {
     "data": {
      "text/plain": [
       "['a', 'is', 'of', 'my', 'for', 'This', 'bunch', 'words', 'Python', 'course']"
      ]
     },
     "execution_count": 22,
     "metadata": {},
     "output_type": "execute_result"
    }
   ],
   "source": [
    "def by_loud_len(one_word):\n",
    "    print(f'Now checking {one_word}')\n",
    "    return len(one_word)\n",
    "\n",
    "sorted(words, key=by_loud_len)"
   ]
  },
  {
   "cell_type": "code",
   "execution_count": 23,
   "metadata": {},
   "outputs": [
    {
     "data": {
      "text/plain": [
       "['a', 'is', 'my', 'of', 'for', 'This', 'bunch', 'words', 'course', 'Python']"
      ]
     },
     "execution_count": 23,
     "metadata": {},
     "output_type": "execute_result"
    }
   ],
   "source": [
    "# Doug wants us to sort primarily by size, and then alphabetically within the size\n",
    "\n",
    "# Yes, we can do this!\n",
    "# Our key function returns something sortable (\"comparable\")\n",
    "\n",
    "def by_len_then_lower(one_word):\n",
    "    return len(one_word), one_word.lower()\n",
    "\n",
    "sorted(words, key=by_len_then_lower)"
   ]
  },
  {
   "cell_type": "code",
   "execution_count": 24,
   "metadata": {},
   "outputs": [
    {
     "data": {
      "text/plain": [
       "['Python', 'course', 'words', 'bunch', 'This', 'for', 'of', 'my', 'is', 'a']"
      ]
     },
     "execution_count": 24,
     "metadata": {},
     "output_type": "execute_result"
    }
   ],
   "source": [
    "# what if I want to sort in descending order?\n",
    "\n",
    "sorted(words, key=by_len_then_lower, reverse=True)"
   ]
  },
  {
   "cell_type": "code",
   "execution_count": 25,
   "metadata": {},
   "outputs": [
    {
     "data": {
      "text/plain": [
       "['course', 'Python', 'bunch', 'words', 'This', 'for', 'is', 'my', 'of', 'a']"
      ]
     },
     "execution_count": 25,
     "metadata": {},
     "output_type": "execute_result"
    }
   ],
   "source": [
    "# what if I want to sort in descending length order, and ascending alphabetical order?\n",
    "\n",
    "def by_len_then_lower(one_word):\n",
    "    return -len(one_word), one_word.lower()\n",
    "\n",
    "sorted(words, key=by_len_then_lower)"
   ]
  },
  {
   "cell_type": "markdown",
   "metadata": {},
   "source": [
    "# Exercise: Sort by vowel count\n",
    "\n",
    "1. Write a function, `by_vowel_count`, that takes a string and returns the number of vowels in the string.\n",
    "2. Ask the user to enter a bunch of words\n",
    "3. Print the words, sorted by increasing number of vowels."
   ]
  },
  {
   "cell_type": "code",
   "execution_count": 31,
   "metadata": {},
   "outputs": [
    {
     "name": "stdout",
     "output_type": "stream",
     "text": [
      "Enter some words: this is another test of my fantastic program\n"
     ]
    }
   ],
   "source": [
    "def by_vowel_count(s):\n",
    "    total = 0\n",
    "    \n",
    "    for one_character in s.lower():\n",
    "        if one_character in 'aeiou':\n",
    "            total += 1\n",
    "            \n",
    "    print(f'Returning {total} for word {s}')\n",
    "            \n",
    "    return total\n",
    "\n",
    "words = input('Enter some words: ').split()"
   ]
  },
  {
   "cell_type": "code",
   "execution_count": 32,
   "metadata": {},
   "outputs": [
    {
     "name": "stdout",
     "output_type": "stream",
     "text": [
      "Returning 1 for word this\n",
      "Returning 1 for word is\n",
      "Returning 3 for word another\n",
      "Returning 1 for word test\n",
      "Returning 1 for word of\n",
      "Returning 0 for word my\n",
      "Returning 3 for word fantastic\n",
      "Returning 2 for word program\n"
     ]
    },
    {
     "data": {
      "text/plain": [
       "['my', 'this', 'is', 'test', 'of', 'program', 'another', 'fantastic']"
      ]
     },
     "execution_count": 32,
     "metadata": {},
     "output_type": "execute_result"
    }
   ],
   "source": [
    "sorted(words, key=by_vowel_count)"
   ]
  },
  {
   "cell_type": "code",
   "execution_count": 33,
   "metadata": {},
   "outputs": [
    {
     "data": {
      "text/plain": [
       "'another'"
      ]
     },
     "execution_count": 33,
     "metadata": {},
     "output_type": "execute_result"
    }
   ],
   "source": [
    "# there are two variations on sorted in Python\n",
    "\n",
    "min(words)"
   ]
  },
  {
   "cell_type": "code",
   "execution_count": 34,
   "metadata": {},
   "outputs": [
    {
     "name": "stdout",
     "output_type": "stream",
     "text": [
      "Returning 1 for word this\n",
      "Returning 1 for word is\n",
      "Returning 3 for word another\n",
      "Returning 1 for word test\n",
      "Returning 1 for word of\n",
      "Returning 0 for word my\n",
      "Returning 3 for word fantastic\n",
      "Returning 2 for word program\n"
     ]
    },
    {
     "data": {
      "text/plain": [
       "'my'"
      ]
     },
     "execution_count": 34,
     "metadata": {},
     "output_type": "execute_result"
    }
   ],
   "source": [
    "min(words, key=by_vowel_count)  # same as sorted(words, key=by_vowel_count)[0]"
   ]
  },
  {
   "cell_type": "code",
   "execution_count": 35,
   "metadata": {},
   "outputs": [
    {
     "name": "stdout",
     "output_type": "stream",
     "text": [
      "Returning 1 for word this\n",
      "Returning 1 for word is\n",
      "Returning 3 for word another\n",
      "Returning 1 for word test\n",
      "Returning 1 for word of\n",
      "Returning 0 for word my\n",
      "Returning 3 for word fantastic\n",
      "Returning 2 for word program\n"
     ]
    },
    {
     "data": {
      "text/plain": [
       "'another'"
      ]
     },
     "execution_count": 35,
     "metadata": {},
     "output_type": "execute_result"
    }
   ],
   "source": [
    "max(words, key=by_vowel_count)  # same as sorted(words, key=by_vowel_count)[-1]"
   ]
  },
  {
   "cell_type": "code",
   "execution_count": 37,
   "metadata": {},
   "outputs": [],
   "source": [
    "people = [{'first':'Reuven', 'last':'Lerner', 'age':51},\n",
    "          {'first':'Atara', 'last':'Lerner-Friedman', 'age':20},\n",
    "         {'first':'Shikma', 'last':'Lerner-Friedman', 'age':18},\n",
    "         {'first':'Amotz', 'last':'Lerner-Friedman', 'age':15}]\n",
    "\n"
   ]
  },
  {
   "cell_type": "code",
   "execution_count": 38,
   "metadata": {},
   "outputs": [
    {
     "data": {
      "text/plain": [
       "4"
      ]
     },
     "execution_count": 38,
     "metadata": {},
     "output_type": "execute_result"
    }
   ],
   "source": [
    "len(people)"
   ]
  },
  {
   "cell_type": "code",
   "execution_count": 39,
   "metadata": {},
   "outputs": [
    {
     "ename": "TypeError",
     "evalue": "'<' not supported between instances of 'dict' and 'dict'",
     "output_type": "error",
     "traceback": [
      "\u001b[0;31m---------------------------------------------------------------------------\u001b[0m",
      "\u001b[0;31mTypeError\u001b[0m                                 Traceback (most recent call last)",
      "\u001b[0;32m<ipython-input-39-2e56109f3fb1>\u001b[0m in \u001b[0;36m<module>\u001b[0;34m\u001b[0m\n\u001b[0;32m----> 1\u001b[0;31m \u001b[0msorted\u001b[0m\u001b[0;34m(\u001b[0m\u001b[0mpeople\u001b[0m\u001b[0;34m)\u001b[0m\u001b[0;34m\u001b[0m\u001b[0;34m\u001b[0m\u001b[0m\n\u001b[0m",
      "\u001b[0;31mTypeError\u001b[0m: '<' not supported between instances of 'dict' and 'dict'"
     ]
    }
   ],
   "source": [
    "sorted(people)"
   ]
  },
  {
   "cell_type": "code",
   "execution_count": 40,
   "metadata": {},
   "outputs": [
    {
     "data": {
      "text/plain": [
       "[{'first': 'Reuven', 'last': 'Lerner', 'age': 51},\n",
       " {'first': 'Amotz', 'last': 'Lerner-Friedman', 'age': 15},\n",
       " {'first': 'Atara', 'last': 'Lerner-Friedman', 'age': 20},\n",
       " {'first': 'Shikma', 'last': 'Lerner-Friedman', 'age': 18}]"
      ]
     },
     "execution_count": 40,
     "metadata": {},
     "output_type": "execute_result"
    }
   ],
   "source": [
    "def by_last_then_first(person_dict):\n",
    "    return person_dict['last'], person_dict['first']   # returning a tuple -- even without (), it's a tuple\n",
    "\n",
    "sorted(people, key=by_last_then_first)"
   ]
  },
  {
   "cell_type": "code",
   "execution_count": 41,
   "metadata": {},
   "outputs": [
    {
     "data": {
      "text/plain": [
       "(10, 20, 30)"
      ]
     },
     "execution_count": 41,
     "metadata": {},
     "output_type": "execute_result"
    }
   ],
   "source": [
    "t = (10, 20, 30)   # obviously a tuple\n",
    "t"
   ]
  },
  {
   "cell_type": "code",
   "execution_count": 42,
   "metadata": {},
   "outputs": [
    {
     "data": {
      "text/plain": [
       "(10, 20, 30)"
      ]
     },
     "execution_count": 42,
     "metadata": {},
     "output_type": "execute_result"
    }
   ],
   "source": [
    "t = 10, 20, 30    # not as obviously a tuple\n",
    "t"
   ]
  },
  {
   "cell_type": "markdown",
   "metadata": {},
   "source": [
    "# Lists of functions\n",
    "\n"
   ]
  },
  {
   "cell_type": "code",
   "execution_count": 43,
   "metadata": {},
   "outputs": [
    {
     "name": "stdout",
     "output_type": "stream",
     "text": [
      "\tNow applying double\n",
      "\tNow applying negate\n",
      "Result is -10\n",
      "\tNow applying double\n",
      "\tNow applying negate\n",
      "Result is -20\n",
      "\tNow applying double\n",
      "\tNow applying negate\n",
      "Result is -40\n"
     ]
    }
   ],
   "source": [
    "def double(x):\n",
    "    return x * 2\n",
    "\n",
    "def negate(y):\n",
    "    return -y\n",
    "\n",
    "to_do = [double, negate]   # list of functions!\n",
    "\n",
    "numbers = [5, 10, 20]\n",
    "\n",
    "for one_number in numbers:\n",
    "    for one_func in to_do:\n",
    "        print(f'\\tNow applying {one_func.__name__}')\n",
    "        one_number = one_func(one_number)\n",
    "    print(f'Result is {one_number}')"
   ]
  },
  {
   "cell_type": "markdown",
   "metadata": {},
   "source": [
    "# Functions as arguments\n",
    "\n",
    "We can write a function that takes a function as an argument, just as `sorted` does.  That is:\n",
    "We can have default functionality, which is overridden by the user.  Or we can expect/require the user to tell us what to do.  "
   ]
  },
  {
   "cell_type": "code",
   "execution_count": 47,
   "metadata": {},
   "outputs": [],
   "source": [
    "def double(x):\n",
    "    return x * 2\n",
    "\n",
    "def negate(y):\n",
    "    return -y\n",
    "\n",
    "def operate_on_user_input(func):\n",
    "    \"\"\"This function takes one argument, func, which must itself be\n",
    "    a function that accepts one numeric argument and returns a numeric result.\n",
    "    \"\"\"\n",
    "    s = int(input('Enter a number: ').strip())\n",
    "    \n",
    "    return func(s)   # apply the function that the user provided to s, and return it"
   ]
  },
  {
   "cell_type": "code",
   "execution_count": 49,
   "metadata": {},
   "outputs": [
    {
     "name": "stdout",
     "output_type": "stream",
     "text": [
      "Enter a number: 5\n"
     ]
    },
    {
     "data": {
      "text/plain": [
       "-5"
      ]
     },
     "execution_count": 49,
     "metadata": {},
     "output_type": "execute_result"
    }
   ],
   "source": [
    "operate_on_user_input(negate)  "
   ]
  },
  {
   "cell_type": "code",
   "execution_count": 46,
   "metadata": {},
   "outputs": [
    {
     "name": "stdout",
     "output_type": "stream",
     "text": [
      "Enter a number: 10\n"
     ]
    },
    {
     "data": {
      "text/plain": [
       "20"
      ]
     },
     "execution_count": 46,
     "metadata": {},
     "output_type": "execute_result"
    }
   ],
   "source": [
    "operate_on_user_input(double)  "
   ]
  },
  {
   "cell_type": "markdown",
   "metadata": {},
   "source": [
    "# Exercise: apply_to_file\n",
    "\n",
    "1. Write a function, `apply_to_file`, that takes two arguments:\n",
    "- `func`, a function\n",
    "- `filename`, a string\n",
    "2. The result of the function should be the result of running `apply_to_file` on the file object.  \n",
    "3. That is, `apply_to_file` will open the file named in `filename`, and will pass that file object to `func`.  Whatever `func` returns is what `apply_to_file` returns.\n",
    "\n",
    "Bonus credit: Let the function take any number of filenames, and it'll return a list of results, one for each filename it got."
   ]
  },
  {
   "cell_type": "code",
   "execution_count": 50,
   "metadata": {},
   "outputs": [],
   "source": [
    "def count_vowels_in_file(f):\n",
    "    total = 0\n",
    "    for one_line in f:\n",
    "        for one_character in one_line.lower():\n",
    "            if one_character in 'aeiou':\n",
    "                total += 1\n",
    "    return total\n",
    "\n",
    "def apply_to_file(func, filename):\n",
    "    return func(open(filename))"
   ]
  },
  {
   "cell_type": "code",
   "execution_count": 51,
   "metadata": {},
   "outputs": [
    {
     "data": {
      "text/plain": [
       "1845"
      ]
     },
     "execution_count": 51,
     "metadata": {},
     "output_type": "execute_result"
    }
   ],
   "source": [
    "apply_to_file(count_vowels_in_file, '/etc/passwd')"
   ]
  },
  {
   "cell_type": "code",
   "execution_count": 53,
   "metadata": {},
   "outputs": [
    {
     "data": {
      "text/plain": [
       "[1845, 21235, 19]"
      ]
     },
     "execution_count": 53,
     "metadata": {},
     "output_type": "execute_result"
    }
   ],
   "source": [
    "# first round, probably easier to understand\n",
    "\n",
    "def apply_to_file(func, *args):\n",
    "    output = []\n",
    "    for one_filename in args:\n",
    "        output.append(func(open(one_filename)))\n",
    "    return output\n",
    "\n",
    "apply_to_file(count_vowels_in_file, '/etc/passwd', 'alice-in-wonderland.txt', 'config.txt')"
   ]
  },
  {
   "cell_type": "code",
   "execution_count": 54,
   "metadata": {},
   "outputs": [
    {
     "data": {
      "text/plain": [
       "[1845, 21235, 19]"
      ]
     },
     "execution_count": 54,
     "metadata": {},
     "output_type": "execute_result"
    }
   ],
   "source": [
    "# better, with a list comprehension\n",
    "\n",
    "def apply_to_file(func, *args):\n",
    "    return [func(open(one_filename))\n",
    "           for one_filename in args]\n",
    "\n",
    "apply_to_file(count_vowels_in_file, '/etc/passwd', 'alice-in-wonderland.txt', 'config.txt')"
   ]
  },
  {
   "cell_type": "code",
   "execution_count": 55,
   "metadata": {},
   "outputs": [
    {
     "data": {
      "text/plain": [
       "{'/etc/passwd': 1845, 'alice-in-wonderland.txt': 21235, 'config.txt': 19}"
      ]
     },
     "execution_count": 55,
     "metadata": {},
     "output_type": "execute_result"
    }
   ],
   "source": [
    "# return a dict, with keys being filenames and values being vowel counts\n",
    "\n",
    "def apply_to_file(func, *args):\n",
    "    return {one_filename : func(open(one_filename))\n",
    "           for one_filename in args}\n",
    "\n",
    "apply_to_file(count_vowels_in_file, '/etc/passwd', 'alice-in-wonderland.txt', 'config.txt')"
   ]
  },
  {
   "cell_type": "code",
   "execution_count": 58,
   "metadata": {},
   "outputs": [],
   "source": [
    "def get_file_size(f):\n",
    "    total = 0\n",
    "    for one_line in f:\n",
    "        total += len(one_line)\n",
    "    return total"
   ]
  },
  {
   "cell_type": "code",
   "execution_count": 59,
   "metadata": {},
   "outputs": [
    {
     "data": {
      "text/plain": [
       "{'/etc/passwd': 7630, 'alice-in-wonderland.txt': 72998, 'config.txt': 109}"
      ]
     },
     "execution_count": 59,
     "metadata": {},
     "output_type": "execute_result"
    }
   ],
   "source": [
    "apply_to_file(get_file_size, '/etc/passwd', 'alice-in-wonderland.txt', 'config.txt')"
   ]
  },
  {
   "cell_type": "markdown",
   "metadata": {},
   "source": [
    "# Next up\n",
    "\n",
    "- Dispatch tables\n",
    "- Partial functions"
   ]
  },
  {
   "cell_type": "code",
   "execution_count": 60,
   "metadata": {},
   "outputs": [],
   "source": [
    "# Return at :15"
   ]
  },
  {
   "cell_type": "code",
   "execution_count": 61,
   "metadata": {},
   "outputs": [
    {
     "name": "stdout",
     "output_type": "stream",
     "text": [
      "Enter a choice: a\n",
      "Hello from A!\n",
      "Enter a choice: b\n",
      "Hello from B!\n",
      "Enter a choice: a\n",
      "Hello from A!\n",
      "Enter a choice: c\n",
      "Bad choice c\n",
      "Enter a choice: \n"
     ]
    }
   ],
   "source": [
    "def a():\n",
    "    return f'Hello from A!'\n",
    "\n",
    "def b():\n",
    "    return f'Hello from B!'\n",
    "\n",
    "# I want to let people choose which function we're going to run for them\n",
    "\n",
    "while True:\n",
    "    s = input('Enter a choice: ').strip()\n",
    "    \n",
    "    if not s:   # empty string? break!\n",
    "        break\n",
    "        \n",
    "    if s == 'a':\n",
    "        print(a())\n",
    "    elif s == 'b':\n",
    "        print(b())\n",
    "    else:\n",
    "        print(f'Bad choice {s}')\n",
    "        \n",
    "        "
   ]
  },
  {
   "cell_type": "code",
   "execution_count": 63,
   "metadata": {},
   "outputs": [
    {
     "name": "stdout",
     "output_type": "stream",
     "text": [
      "Enter a choice: a\n",
      "Hello from A!\n",
      "Enter a choice: b\n",
      "Hello from B!\n",
      "Enter a choice: c\n",
      "Bad choice c\n",
      "Enter a choice: \n"
     ]
    }
   ],
   "source": [
    "def a():\n",
    "    return f'Hello from A!'\n",
    "\n",
    "def b():\n",
    "    return f'Hello from B!'\n",
    "\n",
    "# dispatch table\n",
    "choices = {'a':a,   # keys are strings, values are functions\n",
    "           'b':b}\n",
    "\n",
    "while True:\n",
    "    s = input('Enter a choice: ').strip()\n",
    "    \n",
    "    if not s:   # empty string? break!\n",
    "        break\n",
    "        \n",
    "    if s in choices:\n",
    "        print(choices[s]())\n",
    "\n",
    "    else:\n",
    "        print(f'Bad choice {s}')\n"
   ]
  },
  {
   "cell_type": "markdown",
   "metadata": {},
   "source": [
    "# Exercise: Calculator\n",
    "\n",
    "1. Write two functions, `add` and `sub`, each of which takes two arguments and either adds the numbers or subtracts them, returning the result.\n",
    "2. Create a dispatch table that will allow you to choose from these functions.\n",
    "3. Ask the user, repeatedly, to enter a simple math equation with `+` or `-`, such as `2 + 2` or `10 - 3`.\n",
    "4. Use the dispatch table and the operator to print the result.\n",
    "5. When the user enters an empty string, stop asking.\n",
    "6. If the user enters an invalid operator, scold them.  (Similarly, if they enter a non-number, if you want to check for them.)"
   ]
  },
  {
   "cell_type": "code",
   "execution_count": 64,
   "metadata": {},
   "outputs": [],
   "source": [
    "# https://github.com/reuven/live-functional/blob/main/lerner%20-%202021-09sep-26.ipynb"
   ]
  },
  {
   "cell_type": "code",
   "execution_count": 67,
   "metadata": {},
   "outputs": [
    {
     "name": "stdout",
     "output_type": "stream",
     "text": [
      "Enter math expression: 3 * 5\n",
      "15\n",
      "Enter math expression: \n"
     ]
    }
   ],
   "source": [
    "def add(a, b):\n",
    "    return a + b\n",
    "\n",
    "def sub(a, b):\n",
    "    return a - b\n",
    "\n",
    "def mul(a, b):\n",
    "    return a * b\n",
    "\n",
    "choices = {'+':add,\n",
    "           '-':sub,\n",
    "          '*':mul}\n",
    "\n",
    "while s := input('Enter math expression: ').strip():\n",
    "    \n",
    "    first, op, second = s.split()\n",
    "    \n",
    "    if op in choices:\n",
    "        try:\n",
    "            print(choices[op](int(first), int(second)))\n",
    "        except ValueError:\n",
    "            print(f'You must use numbers!  Try again.')\n",
    "    else:\n",
    "        print(f'Operator {op} is not supported yet -- wait for version 2!')\n",
    "        \n",
    "    \n",
    "    "
   ]
  },
  {
   "cell_type": "code",
   "execution_count": 69,
   "metadata": {},
   "outputs": [
    {
     "name": "stdout",
     "output_type": "stream",
     "text": [
      "Enter math expression: 2 + 2\n",
      "4\n",
      "Enter math expression: \n"
     ]
    }
   ],
   "source": [
    "def add(a, b):\n",
    "    return a + b\n",
    "\n",
    "def sub(a, b):\n",
    "    return a - b\n",
    "\n",
    "def mul(a, b):\n",
    "    return a * b\n",
    "\n",
    "choices = {'+':add,\n",
    "           '-':sub,\n",
    "          '*':mul}\n",
    "\n",
    "# for years, we knew that\n",
    "# (1) we want to exit the loop when the user gives us an empty string\n",
    "# (2) the empty string is considered \"False\" in a boolean context, including a \"while\" loop\n",
    "\n",
    "# so why not do this:\n",
    "\n",
    "# assignment in Python doesn't return a value.\n",
    "# so = cannot be used where a value is expected, e.g., in a while loop's condition\n",
    "\n",
    "# as of Python 3.8, we have the := \"assignment expression\" operator, which \n",
    "# both assigns and returns a value.  It's also known as \"the walrus\"\n",
    "\n",
    "while s := input('Enter math expression: ').strip():\n",
    "    \n",
    "    first, op, second = s.split()\n",
    "    \n",
    "    if op in choices:\n",
    "        try:\n",
    "            print(choices[op](int(first), int(second)))\n",
    "        except ValueError:\n",
    "            print(f'You must use numbers!  Try again.')\n",
    "    else:\n",
    "        print(f'Operator {op} is not supported yet -- wait for version 2!')      \n"
   ]
  },
  {
   "cell_type": "code",
   "execution_count": null,
   "metadata": {},
   "outputs": [],
   "source": [
    "# without the walrus operator\n",
    "\n",
    "while True:\n",
    "    \n",
    "    s = input('Enter math expression: ').strip()\n",
    "    \n",
    "    if not s:\n",
    "        break\n",
    "    \n",
    "    first, op, second = s.split()\n",
    "    \n",
    "    if op in choices:\n",
    "        try:\n",
    "            print(choices[op](int(first), int(second)))\n",
    "        except ValueError:\n",
    "            print(f'You must use numbers!  Try again.')\n",
    "    else:\n",
    "        print(f'Operator {op} is not supported yet -- wait for version 2!')"
   ]
  },
  {
   "cell_type": "markdown",
   "metadata": {},
   "source": [
    "# Partial function evaluation\n",
    "\n",
    "Let's say that I have a function that takes two arguments. I want to run that function many times with the first argument constant (never changing), but the second argument changing a lot.\n",
    "\n",
    "Is there something I can do for this to work?"
   ]
  },
  {
   "cell_type": "code",
   "execution_count": 70,
   "metadata": {},
   "outputs": [
    {
     "data": {
      "text/plain": [
       "15"
      ]
     },
     "execution_count": 70,
     "metadata": {},
     "output_type": "execute_result"
    }
   ],
   "source": [
    "def add(a, b):\n",
    "    return a + b\n",
    "\n",
    "# I want to have a function a5 that takes one argument, and then returns that argument + 5\n",
    "def a5(b):\n",
    "    return add(5, b)\n",
    "\n",
    "a5(10)"
   ]
  },
  {
   "cell_type": "code",
   "execution_count": 72,
   "metadata": {},
   "outputs": [],
   "source": [
    "from functools import partial\n",
    "\n",
    "a5 = partial(add, 5)   # this is the same as the definition of \"a5\" in the previous cell"
   ]
  },
  {
   "cell_type": "code",
   "execution_count": 73,
   "metadata": {},
   "outputs": [
    {
     "data": {
      "text/plain": [
       "functools.partial"
      ]
     },
     "execution_count": 73,
     "metadata": {},
     "output_type": "execute_result"
    }
   ],
   "source": [
    "type(a5)"
   ]
  },
  {
   "cell_type": "code",
   "execution_count": 74,
   "metadata": {},
   "outputs": [
    {
     "data": {
      "text/plain": [
       "True"
      ]
     },
     "execution_count": 74,
     "metadata": {},
     "output_type": "execute_result"
    }
   ],
   "source": [
    "callable(a5)"
   ]
  },
  {
   "cell_type": "code",
   "execution_count": 75,
   "metadata": {},
   "outputs": [
    {
     "ename": "TypeError",
     "evalue": "add() missing 1 required positional argument: 'b'",
     "output_type": "error",
     "traceback": [
      "\u001b[0;31m---------------------------------------------------------------------------\u001b[0m",
      "\u001b[0;31mTypeError\u001b[0m                                 Traceback (most recent call last)",
      "\u001b[0;32m<ipython-input-75-d2a2830001eb>\u001b[0m in \u001b[0;36m<module>\u001b[0;34m\u001b[0m\n\u001b[0;32m----> 1\u001b[0;31m \u001b[0ma5\u001b[0m\u001b[0;34m(\u001b[0m\u001b[0;34m)\u001b[0m\u001b[0;34m\u001b[0m\u001b[0;34m\u001b[0m\u001b[0m\n\u001b[0m",
      "\u001b[0;31mTypeError\u001b[0m: add() missing 1 required positional argument: 'b'"
     ]
    }
   ],
   "source": [
    "a5()"
   ]
  },
  {
   "cell_type": "code",
   "execution_count": 76,
   "metadata": {},
   "outputs": [
    {
     "data": {
      "text/plain": [
       "15"
      ]
     },
     "execution_count": 76,
     "metadata": {},
     "output_type": "execute_result"
    }
   ],
   "source": [
    "a5(10)"
   ]
  },
  {
   "cell_type": "code",
   "execution_count": 77,
   "metadata": {},
   "outputs": [
    {
     "data": {
      "text/plain": [
       "42"
      ]
     },
     "execution_count": 77,
     "metadata": {},
     "output_type": "execute_result"
    }
   ],
   "source": [
    "s = '101010'\n",
    "int(s, 2)    # this returns a new int based on s, interpreting it as a base-2 number"
   ]
  },
  {
   "cell_type": "code",
   "execution_count": 78,
   "metadata": {},
   "outputs": [
    {
     "data": {
      "text/plain": [
       "42"
      ]
     },
     "execution_count": 78,
     "metadata": {},
     "output_type": "execute_result"
    }
   ],
   "source": [
    "def int_from_bin(s):\n",
    "    return int(s, 2)\n",
    "\n",
    "int_from_bin(s)"
   ]
  },
  {
   "cell_type": "code",
   "execution_count": 80,
   "metadata": {},
   "outputs": [
    {
     "data": {
      "text/plain": [
       "42"
      ]
     },
     "execution_count": 80,
     "metadata": {},
     "output_type": "execute_result"
    }
   ],
   "source": [
    "int_from_bin = partial(int, base=2)\n",
    "\n",
    "int_from_bin(s)  # it thinks we're calling int(s, base=2)"
   ]
  },
  {
   "cell_type": "markdown",
   "metadata": {},
   "source": [
    "# Exercise: \n",
    "\n",
    "When we call `sorted` with a key function, the key function can only take a single argument.  What if we want to have a key function that takes two arguments?  We're basically out of luck.  *BUT* we can use a partial to do this instead.\n",
    "\n",
    "1. Define a list of numbers, ranging from 0 to 10,000.\n",
    "2. Define a function (`abs_distance`) that takes two numbers, and returns the absolute difference between them.\n",
    "3. Create three partials based on the distance from 0, then from 5,000, then from 10,000.\n",
    "4. Sort the list of numbers, passing each partial to `sorted`.  You'll end with the numbers sorted by distance from 0, then 5,000, then 10,000."
   ]
  },
  {
   "cell_type": "code",
   "execution_count": 86,
   "metadata": {},
   "outputs": [
    {
     "data": {
      "text/plain": [
       "[6311, 6890, 663, 4242, 8376, 7961, 6634, 4969, 7808, 5866]"
      ]
     },
     "execution_count": 86,
     "metadata": {},
     "output_type": "execute_result"
    }
   ],
   "source": [
    "import random\n",
    "from functools import partial\n",
    "\n",
    "random.seed(0)\n",
    "numbers = [random.randint(0, 10_000)\n",
    "           for i in range(10)]\n",
    "numbers"
   ]
  },
  {
   "cell_type": "code",
   "execution_count": 87,
   "metadata": {},
   "outputs": [],
   "source": [
    "def abs_distance(a, b):\n",
    "    return abs(a-b)\n",
    "\n",
    "dist0 = partial(abs_distance, 0)\n",
    "dist5k = partial(abs_distance, 5000)\n",
    "dist10k = partial(abs_distance, 10_000)"
   ]
  },
  {
   "cell_type": "code",
   "execution_count": 89,
   "metadata": {},
   "outputs": [
    {
     "data": {
      "text/plain": [
       "[663, 4242, 4969, 5866, 6311, 6634, 6890, 7808, 7961, 8376]"
      ]
     },
     "execution_count": 89,
     "metadata": {},
     "output_type": "execute_result"
    }
   ],
   "source": [
    "sorted(numbers, key=dist0)"
   ]
  },
  {
   "cell_type": "code",
   "execution_count": 90,
   "metadata": {},
   "outputs": [
    {
     "data": {
      "text/plain": [
       "[8376, 7961, 7808, 6890, 6634, 6311, 5866, 4969, 4242, 663]"
      ]
     },
     "execution_count": 90,
     "metadata": {},
     "output_type": "execute_result"
    }
   ],
   "source": [
    "sorted(numbers, key=dist10k)"
   ]
  },
  {
   "cell_type": "code",
   "execution_count": 91,
   "metadata": {},
   "outputs": [
    {
     "data": {
      "text/plain": [
       "[4969, 4242, 5866, 6311, 6634, 6890, 7808, 7961, 8376, 663]"
      ]
     },
     "execution_count": 91,
     "metadata": {},
     "output_type": "execute_result"
    }
   ],
   "source": [
    "sorted(numbers, key=dist5k)"
   ]
  },
  {
   "cell_type": "code",
   "execution_count": 92,
   "metadata": {},
   "outputs": [
    {
     "data": {
      "text/plain": [
       "4997"
      ]
     },
     "execution_count": 92,
     "metadata": {},
     "output_type": "execute_result"
    }
   ],
   "source": [
    "dist5k(3)"
   ]
  },
  {
   "cell_type": "code",
   "execution_count": 93,
   "metadata": {},
   "outputs": [
    {
     "data": {
      "text/plain": [
       "['__call__',\n",
       " '__class__',\n",
       " '__class_getitem__',\n",
       " '__delattr__',\n",
       " '__dict__',\n",
       " '__dir__',\n",
       " '__doc__',\n",
       " '__eq__',\n",
       " '__format__',\n",
       " '__ge__',\n",
       " '__getattribute__',\n",
       " '__gt__',\n",
       " '__hash__',\n",
       " '__init__',\n",
       " '__init_subclass__',\n",
       " '__le__',\n",
       " '__lt__',\n",
       " '__ne__',\n",
       " '__new__',\n",
       " '__reduce__',\n",
       " '__reduce_ex__',\n",
       " '__repr__',\n",
       " '__setattr__',\n",
       " '__setstate__',\n",
       " '__sizeof__',\n",
       " '__str__',\n",
       " '__subclasshook__',\n",
       " 'args',\n",
       " 'func',\n",
       " 'keywords']"
      ]
     },
     "execution_count": 93,
     "metadata": {},
     "output_type": "execute_result"
    }
   ],
   "source": [
    "dir(dist5k)"
   ]
  },
  {
   "cell_type": "code",
   "execution_count": 94,
   "metadata": {},
   "outputs": [
    {
     "data": {
      "text/plain": [
       "(0,)"
      ]
     },
     "execution_count": 94,
     "metadata": {},
     "output_type": "execute_result"
    }
   ],
   "source": [
    "dist0.args"
   ]
  },
  {
   "cell_type": "code",
   "execution_count": 95,
   "metadata": {},
   "outputs": [
    {
     "data": {
      "text/plain": [
       "<function __main__.abs_distance(a, b)>"
      ]
     },
     "execution_count": 95,
     "metadata": {},
     "output_type": "execute_result"
    }
   ],
   "source": [
    "dist0.func"
   ]
  },
  {
   "cell_type": "code",
   "execution_count": 96,
   "metadata": {},
   "outputs": [
    {
     "data": {
      "text/plain": [
       "{}"
      ]
     },
     "execution_count": 96,
     "metadata": {},
     "output_type": "execute_result"
    }
   ],
   "source": [
    "dist0.keywords"
   ]
  },
  {
   "cell_type": "code",
   "execution_count": 97,
   "metadata": {},
   "outputs": [],
   "source": [
    "class MyPartial:\n",
    "    def __init__(self, func, *args, **kwargs):\n",
    "        self.func = func\n",
    "        self.args = args\n",
    "        self.keywords = kwargs\n",
    "        \n",
    "    def __call__(self, *args, **kwargs):\n",
    "        all_args = self.args + args   # adding tuples\n",
    "        all_kwargs = self.keywords | kwargs   # new in Python 3.8! Merge dicts together\n",
    "        \n",
    "        return self.func(*all_args, **all_kwargs)       "
   ]
  },
  {
   "cell_type": "code",
   "execution_count": 98,
   "metadata": {},
   "outputs": [],
   "source": [
    "p0 = MyPartial(abs_distance, 0)\n",
    "p5k = MyPartial(abs_distance, 5000)\n",
    "p10k = MyPartial(abs_distance, 10000)"
   ]
  },
  {
   "cell_type": "code",
   "execution_count": 99,
   "metadata": {},
   "outputs": [
    {
     "data": {
      "text/plain": [
       "[4969, 4242, 5866, 6311, 6634, 6890, 7808, 7961, 8376, 663]"
      ]
     },
     "execution_count": 99,
     "metadata": {},
     "output_type": "execute_result"
    }
   ],
   "source": [
    "# the key function I pass here is p5k, an instance of MyPartial\n",
    "# MyPartial is basically doing what functools.partial does -- returns a callable\n",
    "#  that calls another function on our behalf, with some default/pre-populated arguments\n",
    "\n",
    "sorted(numbers, key=p5k)"
   ]
  },
  {
   "cell_type": "code",
   "execution_count": 100,
   "metadata": {},
   "outputs": [],
   "source": [
    "# in olden times, you would merge dictionaries with dict.update\n",
    "\n",
    "d1 = {'a':1, 'b':2, 'c':3}\n",
    "d2 = {'c':30, 'd':40, 'e':50}\n",
    "\n",
    "d1.update(d2)   # this brings all key-value pairs from d2 into d1, overwriting existing pairs in d1"
   ]
  },
  {
   "cell_type": "code",
   "execution_count": 101,
   "metadata": {},
   "outputs": [
    {
     "data": {
      "text/plain": [
       "{'a': 1, 'b': 2, 'c': 30, 'd': 40, 'e': 50}"
      ]
     },
     "execution_count": 101,
     "metadata": {},
     "output_type": "execute_result"
    }
   ],
   "source": [
    "d1"
   ]
  },
  {
   "cell_type": "code",
   "execution_count": 102,
   "metadata": {},
   "outputs": [
    {
     "data": {
      "text/plain": [
       "{'a': 1, 'b': 2, 'c': 30, 'd': 40, 'e': 50}"
      ]
     },
     "execution_count": 102,
     "metadata": {},
     "output_type": "execute_result"
    }
   ],
   "source": [
    "# in Python 3.9, you can use | to get a new dict back, and not modify an existing one\n",
    "\n",
    "d1 = {'a':1, 'b':2, 'c':3}\n",
    "d2 = {'c':30, 'd':40, 'e':50}\n",
    "\n",
    "d1 | d2    # d2's key-value pairs still get priority in the output"
   ]
  },
  {
   "cell_type": "code",
   "execution_count": 103,
   "metadata": {},
   "outputs": [
    {
     "data": {
      "text/plain": [
       "{'c': 3, 'd': 40, 'e': 50, 'a': 1, 'b': 2}"
      ]
     },
     "execution_count": 103,
     "metadata": {},
     "output_type": "execute_result"
    }
   ],
   "source": [
    "d2 | d1"
   ]
  },
  {
   "cell_type": "code",
   "execution_count": 104,
   "metadata": {},
   "outputs": [
    {
     "data": {
      "text/plain": [
       "{'a': 1, 'b': 2, 'c': 30, 'd': 40, 'e': 50}"
      ]
     },
     "execution_count": 104,
     "metadata": {},
     "output_type": "execute_result"
    }
   ],
   "source": [
    "# use |= to assign to the left, a la dict.update\n",
    "d1 |= d2\n",
    "\n",
    "d1"
   ]
  },
  {
   "cell_type": "code",
   "execution_count": 105,
   "metadata": {},
   "outputs": [
    {
     "data": {
      "text/plain": [
       "['__class__',\n",
       " '__class_getitem__',\n",
       " '__contains__',\n",
       " '__delattr__',\n",
       " '__delitem__',\n",
       " '__dir__',\n",
       " '__doc__',\n",
       " '__eq__',\n",
       " '__format__',\n",
       " '__ge__',\n",
       " '__getattribute__',\n",
       " '__getitem__',\n",
       " '__gt__',\n",
       " '__hash__',\n",
       " '__init__',\n",
       " '__init_subclass__',\n",
       " '__ior__',\n",
       " '__iter__',\n",
       " '__le__',\n",
       " '__len__',\n",
       " '__lt__',\n",
       " '__ne__',\n",
       " '__new__',\n",
       " '__or__',\n",
       " '__reduce__',\n",
       " '__reduce_ex__',\n",
       " '__repr__',\n",
       " '__reversed__',\n",
       " '__ror__',\n",
       " '__setattr__',\n",
       " '__setitem__',\n",
       " '__sizeof__',\n",
       " '__str__',\n",
       " '__subclasshook__',\n",
       " 'clear',\n",
       " 'copy',\n",
       " 'fromkeys',\n",
       " 'get',\n",
       " 'items',\n",
       " 'keys',\n",
       " 'pop',\n",
       " 'popitem',\n",
       " 'setdefault',\n",
       " 'update',\n",
       " 'values']"
      ]
     },
     "execution_count": 105,
     "metadata": {},
     "output_type": "execute_result"
    }
   ],
   "source": [
    "dir(d1)"
   ]
  },
  {
   "cell_type": "code",
   "execution_count": 106,
   "metadata": {},
   "outputs": [
    {
     "data": {
      "text/plain": [
       "{'a': 1, 'b': 2, 'c': 30, 'd': 40, 'e': 50}"
      ]
     },
     "execution_count": 106,
     "metadata": {},
     "output_type": "execute_result"
    }
   ],
   "source": [
    "d1 = {'a':1, 'b':2, 'c':3}\n",
    "d2 = {'c':30, 'd':40, 'e':50}\n",
    "\n",
    "d1.__or__(d2)  # this is the method that's being invoked by |"
   ]
  },
  {
   "cell_type": "code",
   "execution_count": 108,
   "metadata": {},
   "outputs": [
    {
     "data": {
      "text/plain": [
       "<__main__.MyPartial at 0x119022850>"
      ]
     },
     "execution_count": 108,
     "metadata": {},
     "output_type": "execute_result"
    }
   ],
   "source": [
    "p0"
   ]
  },
  {
   "cell_type": "markdown",
   "metadata": {},
   "source": [
    "# Next up\n",
    "\n",
    "- Single dispatch\n",
    "- `lambda`\n",
    "- `operator`"
   ]
  },
  {
   "cell_type": "code",
   "execution_count": 109,
   "metadata": {},
   "outputs": [],
   "source": [
    "# Resume at :20"
   ]
  },
  {
   "cell_type": "markdown",
   "metadata": {},
   "source": [
    "# Function signatures\n",
    "\n",
    "Python doesn't have them, but many other languages do. The idea is that you define a function multiple times, each with a different number and/or type of arguments, and the language picks the appropriate implementation based on those numbers / types.\n",
    "\n",
    "Single dispatch is a way to do this sort of thing in Python — based on the first argument (that's the \"single\" in \"single dispatch\"), Python will choose which function is appropriate."
   ]
  },
  {
   "cell_type": "code",
   "execution_count": 110,
   "metadata": {},
   "outputs": [
    {
     "name": "stdout",
     "output_type": "stream",
     "text": [
      "ad\n",
      "[10, 30]\n",
      "(100, 500)\n"
     ]
    }
   ],
   "source": [
    "# let's assume that I want a function called \"firstlast\", which takes any sequence\n",
    "# (string, list, tuple) and returns a two-element object of that same type with the \n",
    "# first and last elements from the input.\n",
    "\n",
    "def firstlast(data):\n",
    "    return data[:1] + data[-1:]   \n",
    "\n",
    "print(firstlast('abcd'))\n",
    "print(firstlast([10, 20, 30]))\n",
    "print(firstlast((100, 200, 300, 400, 500)))"
   ]
  },
  {
   "cell_type": "code",
   "execution_count": 111,
   "metadata": {},
   "outputs": [],
   "source": [
    "from functools import singledispatch\n",
    "\n",
    "@singledispatch     # default function to be used, if nothing better is found\n",
    "def firstlast(data):\n",
    "    return data[0] + data[-1]"
   ]
  },
  {
   "cell_type": "code",
   "execution_count": 112,
   "metadata": {},
   "outputs": [
    {
     "data": {
      "text/plain": [
       "'ad'"
      ]
     },
     "execution_count": 112,
     "metadata": {},
     "output_type": "execute_result"
    }
   ],
   "source": [
    "firstlast('abcd')"
   ]
  },
  {
   "cell_type": "code",
   "execution_count": 113,
   "metadata": {},
   "outputs": [
    {
     "data": {
      "text/plain": [
       "40"
      ]
     },
     "execution_count": 113,
     "metadata": {},
     "output_type": "execute_result"
    }
   ],
   "source": [
    "firstlast([10, 20, 30])"
   ]
  },
  {
   "cell_type": "code",
   "execution_count": 114,
   "metadata": {},
   "outputs": [],
   "source": [
    "# now we need to say: If we call firstlast with a list argument, \n",
    "# then we want to treat it specially\n",
    "\n",
    "@firstlast.register\n",
    "def _(data:list):     # Python 3 type annotations are used to determine which is run\n",
    "    print('Running the list version of firstlast')\n",
    "    return [data[0], data[-1]]\n",
    "\n",
    "@firstlast.register\n",
    "def _(data:tuple):\n",
    "    print('Running the tuple version of firstlast')\n",
    "    return data[0], data[-1]"
   ]
  },
  {
   "cell_type": "code",
   "execution_count": 115,
   "metadata": {},
   "outputs": [
    {
     "data": {
      "text/plain": [
       "'ad'"
      ]
     },
     "execution_count": 115,
     "metadata": {},
     "output_type": "execute_result"
    }
   ],
   "source": [
    "firstlast('abcd')"
   ]
  },
  {
   "cell_type": "code",
   "execution_count": 116,
   "metadata": {},
   "outputs": [
    {
     "name": "stdout",
     "output_type": "stream",
     "text": [
      "Running the list version of firstlast\n"
     ]
    },
    {
     "data": {
      "text/plain": [
       "[10, 30]"
      ]
     },
     "execution_count": 116,
     "metadata": {},
     "output_type": "execute_result"
    }
   ],
   "source": [
    "firstlast([10, 20, 30])"
   ]
  },
  {
   "cell_type": "code",
   "execution_count": 117,
   "metadata": {},
   "outputs": [
    {
     "name": "stdout",
     "output_type": "stream",
     "text": [
      "Running the tuple version of firstlast\n"
     ]
    },
    {
     "data": {
      "text/plain": [
       "(100, 500)"
      ]
     },
     "execution_count": 117,
     "metadata": {},
     "output_type": "execute_result"
    }
   ],
   "source": [
    "firstlast((100, 200, 300, 400, 500))"
   ]
  },
  {
   "cell_type": "code",
   "execution_count": 119,
   "metadata": {},
   "outputs": [
    {
     "name": "stdout",
     "output_type": "stream",
     "text": [
      "Running the dict version of firstlast\n"
     ]
    },
    {
     "data": {
      "text/plain": [
       "{'a': 1, 'd': 4}"
      ]
     },
     "execution_count": 119,
     "metadata": {},
     "output_type": "execute_result"
    }
   ],
   "source": [
    "# I can take advantage of this to add firstlast for dicts,\n",
    "# even though dicts don't have a [0] or [-1] -- they aren't indexable\n",
    "\n",
    "@firstlast.register\n",
    "def _(data:dict):\n",
    "    print('Running the dict version of firstlast')\n",
    "    first, *stuff, last = sorted(data)\n",
    "    return {first:data[first], last:data[last]}\n",
    "\n",
    "d = {'a':1, 'b':2, 'c':3, 'd':4}\n",
    "firstlast(d)  # I'm passing a dict"
   ]
  },
  {
   "cell_type": "code",
   "execution_count": 120,
   "metadata": {},
   "outputs": [
    {
     "data": {
      "text/plain": [
       "['__annotations__',\n",
       " '__call__',\n",
       " '__class__',\n",
       " '__closure__',\n",
       " '__code__',\n",
       " '__defaults__',\n",
       " '__delattr__',\n",
       " '__dict__',\n",
       " '__dir__',\n",
       " '__doc__',\n",
       " '__eq__',\n",
       " '__format__',\n",
       " '__ge__',\n",
       " '__get__',\n",
       " '__getattribute__',\n",
       " '__globals__',\n",
       " '__gt__',\n",
       " '__hash__',\n",
       " '__init__',\n",
       " '__init_subclass__',\n",
       " '__kwdefaults__',\n",
       " '__le__',\n",
       " '__lt__',\n",
       " '__module__',\n",
       " '__name__',\n",
       " '__ne__',\n",
       " '__new__',\n",
       " '__qualname__',\n",
       " '__reduce__',\n",
       " '__reduce_ex__',\n",
       " '__repr__',\n",
       " '__setattr__',\n",
       " '__sizeof__',\n",
       " '__str__',\n",
       " '__subclasshook__',\n",
       " '__wrapped__',\n",
       " '_clear_cache',\n",
       " 'dispatch',\n",
       " 'register',\n",
       " 'registry']"
      ]
     },
     "execution_count": 120,
     "metadata": {},
     "output_type": "execute_result"
    }
   ],
   "source": [
    "dir(firstlast)"
   ]
  },
  {
   "cell_type": "code",
   "execution_count": 121,
   "metadata": {},
   "outputs": [
    {
     "data": {
      "text/plain": [
       "mappingproxy({object: <function __main__.firstlast(data)>,\n",
       "              list: <function __main__._(data: list)>,\n",
       "              tuple: <function __main__._(data: tuple)>,\n",
       "              dict: <function __main__._(data: dict)>})"
      ]
     },
     "execution_count": 121,
     "metadata": {},
     "output_type": "execute_result"
    }
   ],
   "source": [
    "firstlast.registry"
   ]
  },
  {
   "cell_type": "code",
   "execution_count": 122,
   "metadata": {},
   "outputs": [
    {
     "data": {
      "text/plain": [
       "<function functools.singledispatch.<locals>.dispatch(cls)>"
      ]
     },
     "execution_count": 122,
     "metadata": {},
     "output_type": "execute_result"
    }
   ],
   "source": [
    "firstlast.dispatch"
   ]
  },
  {
   "cell_type": "markdown",
   "metadata": {},
   "source": [
    "# `lambda`\n",
    "\n"
   ]
  },
  {
   "cell_type": "code",
   "execution_count": 123,
   "metadata": {},
   "outputs": [],
   "source": [
    "def square(x):\n",
    "    return x ** 2"
   ]
  },
  {
   "cell_type": "markdown",
   "metadata": {},
   "source": [
    "# What did do there?\n",
    "\n",
    "I defined a new function, `square`, using `def`.  But whenever we use `def`, we're really doing two separate things:\n",
    "\n",
    "1. Creating a new function object\n",
    "2. Assigning that function object to `square`."
   ]
  },
  {
   "cell_type": "code",
   "execution_count": 124,
   "metadata": {},
   "outputs": [],
   "source": [
    "x = square   # this creates an alias, such that x and square are both variables that refer to the same function"
   ]
  },
  {
   "cell_type": "code",
   "execution_count": 125,
   "metadata": {},
   "outputs": [
    {
     "data": {
      "text/plain": [
       "25"
      ]
     },
     "execution_count": 125,
     "metadata": {},
     "output_type": "execute_result"
    }
   ],
   "source": [
    "square(5)"
   ]
  },
  {
   "cell_type": "code",
   "execution_count": 126,
   "metadata": {},
   "outputs": [
    {
     "data": {
      "text/plain": [
       "25"
      ]
     },
     "execution_count": 126,
     "metadata": {},
     "output_type": "execute_result"
    }
   ],
   "source": [
    "x(5)"
   ]
  },
  {
   "cell_type": "code",
   "execution_count": 127,
   "metadata": {},
   "outputs": [],
   "source": [
    "# what if I want to define a function object, but not give it any name?\n",
    "# I can do that with \"lambda\" -- its a keyword that returns a function object"
   ]
  },
  {
   "cell_type": "code",
   "execution_count": 128,
   "metadata": {},
   "outputs": [
    {
     "data": {
      "text/plain": [
       "<function __main__.<lambda>(x)>"
      ]
     },
     "execution_count": 128,
     "metadata": {},
     "output_type": "execute_result"
    }
   ],
   "source": [
    "lambda x: x**2"
   ]
  },
  {
   "cell_type": "code",
   "execution_count": 129,
   "metadata": {},
   "outputs": [
    {
     "data": {
      "text/plain": [
       "25"
      ]
     },
     "execution_count": 129,
     "metadata": {},
     "output_type": "execute_result"
    }
   ],
   "source": [
    "# let's call our lambda!\n",
    "\n",
    "(lambda x: x**2)(5)"
   ]
  },
  {
   "cell_type": "markdown",
   "metadata": {},
   "source": [
    "# Python expressions\n",
    "\n",
    "Expressions are pieces of code that return values. Most of the code we write in Python contains expressions.  But there are exceptions:\n",
    "\n",
    "- Assignment\n",
    "- `def`\n",
    "- `if`\n",
    "- `class`\n",
    "\n",
    "If you cannot put something on the right side of an assignment, then it's not an expression.\n",
    "\n",
    "In the body of a `lambda`, you can only have one expression, and that expression may only be on a single line.\n",
    "\n",
    "Yes, this means that `lambda` is limited!  Much more limited than `lambda` in other languages, where you can basically do whatever you want.  This is for a variety of reasons, many of them having to do with Python's indentation and syntax."
   ]
  },
  {
   "cell_type": "code",
   "execution_count": 131,
   "metadata": {},
   "outputs": [],
   "source": [
    "# this is basically what def does\n",
    "\n",
    "square2 = lambda x: x**2"
   ]
  },
  {
   "cell_type": "code",
   "execution_count": 132,
   "metadata": {},
   "outputs": [
    {
     "data": {
      "text/plain": [
       "9"
      ]
     },
     "execution_count": 132,
     "metadata": {},
     "output_type": "execute_result"
    }
   ],
   "source": [
    "square2(3)"
   ]
  },
  {
   "cell_type": "markdown",
   "metadata": {},
   "source": [
    "# Where do you use `lambda`?\n",
    "\n",
    "Often when you're calling a function that expects to get a function argument... and you don't want to define a full function for one-time use.  We can define a one-time, anonymous function on the fly, and thus not pollute our namespace with new function names."
   ]
  },
  {
   "cell_type": "code",
   "execution_count": 136,
   "metadata": {},
   "outputs": [
    {
     "data": {
      "text/plain": [
       "[4969, 4242, 5866, 6311, 6634, 6890, 7808, 7961, 8376, 663]"
      ]
     },
     "execution_count": 136,
     "metadata": {},
     "output_type": "execute_result"
    }
   ],
   "source": [
    "# for example, I can sort numbers by their distance from 5000.\n",
    "\n",
    "sorted(numbers, key=lambda n: abs(n-5000))"
   ]
  },
  {
   "cell_type": "markdown",
   "metadata": {},
   "source": [
    "# Exercise: Sorting dicts by value\n",
    "\n",
    "1. Define a dict in which the keys are strings, and the values are random integers from 0 to 1,000.\n",
    "2. Print the dict's keys and values in ascending order *based on the values*.\n",
    "3. Use `lambda` to accomplish this."
   ]
  },
  {
   "cell_type": "code",
   "execution_count": 141,
   "metadata": {},
   "outputs": [],
   "source": [
    "import random\n",
    "\n",
    "random.seed(0)\n",
    "numbers = [random.randint(0, 1000)\n",
    "          for i in range(5)]\n",
    "\n",
    "d = dict(zip('abcde', numbers))"
   ]
  },
  {
   "cell_type": "code",
   "execution_count": 142,
   "metadata": {},
   "outputs": [
    {
     "data": {
      "text/plain": [
       "{'a': 864, 'b': 394, 'c': 776, 'd': 911, 'e': 430}"
      ]
     },
     "execution_count": 142,
     "metadata": {},
     "output_type": "execute_result"
    }
   ],
   "source": [
    "d"
   ]
  },
  {
   "cell_type": "code",
   "execution_count": 143,
   "metadata": {},
   "outputs": [
    {
     "data": {
      "text/plain": [
       "['a', 'b', 'c', 'd', 'e']"
      ]
     },
     "execution_count": 143,
     "metadata": {},
     "output_type": "execute_result"
    }
   ],
   "source": [
    "sorted(d)  # can I sort a dict like this?"
   ]
  },
  {
   "cell_type": "code",
   "execution_count": 144,
   "metadata": {},
   "outputs": [
    {
     "data": {
      "text/plain": [
       "[394, 430, 776, 864, 911]"
      ]
     },
     "execution_count": 144,
     "metadata": {},
     "output_type": "execute_result"
    }
   ],
   "source": [
    "sorted(d.values())"
   ]
  },
  {
   "cell_type": "code",
   "execution_count": 145,
   "metadata": {},
   "outputs": [
    {
     "data": {
      "text/plain": [
       "[('a', 864), ('b', 394), ('c', 776), ('d', 911), ('e', 430)]"
      ]
     },
     "execution_count": 145,
     "metadata": {},
     "output_type": "execute_result"
    }
   ],
   "source": [
    "# sorting based on d.items, no key function\n",
    "sorted(d.items())"
   ]
  },
  {
   "cell_type": "code",
   "execution_count": 146,
   "metadata": {},
   "outputs": [
    {
     "data": {
      "text/plain": [
       "[('b', 394), ('e', 430), ('c', 776), ('a', 864), ('d', 911)]"
      ]
     },
     "execution_count": 146,
     "metadata": {},
     "output_type": "execute_result"
    }
   ],
   "source": [
    "# sorting based on d.items, user-defined function\n",
    "\n",
    "def by_value(t):\n",
    "    return t[1]  # return the value for each key-value pair\n",
    "\n",
    "sorted(d.items(), key=by_value)"
   ]
  },
  {
   "cell_type": "code",
   "execution_count": 147,
   "metadata": {},
   "outputs": [
    {
     "data": {
      "text/plain": [
       "[('b', 394), ('e', 430), ('c', 776), ('a', 864), ('d', 911)]"
      ]
     },
     "execution_count": 147,
     "metadata": {},
     "output_type": "execute_result"
    }
   ],
   "source": [
    "# equivalent to what I just did, but with lambda\n",
    "\n",
    "sorted(d.items(), key=lambda t: t[1])"
   ]
  },
  {
   "cell_type": "code",
   "execution_count": 148,
   "metadata": {},
   "outputs": [
    {
     "ename": "TypeError",
     "evalue": "dict.values() takes no arguments (1 given)",
     "output_type": "error",
     "traceback": [
      "\u001b[0;31m---------------------------------------------------------------------------\u001b[0m",
      "\u001b[0;31mTypeError\u001b[0m                                 Traceback (most recent call last)",
      "\u001b[0;32m<ipython-input-148-26199e939948>\u001b[0m in \u001b[0;36m<module>\u001b[0;34m\u001b[0m\n\u001b[1;32m      3\u001b[0m \u001b[0;31m# - second, key parameter, is the function we want to invoke on each value to determine the ordering\u001b[0m\u001b[0;34m\u001b[0m\u001b[0;34m\u001b[0m\u001b[0m\n\u001b[1;32m      4\u001b[0m \u001b[0;34m\u001b[0m\u001b[0m\n\u001b[0;32m----> 5\u001b[0;31m \u001b[0msorted\u001b[0m\u001b[0;34m(\u001b[0m\u001b[0md\u001b[0m\u001b[0;34m.\u001b[0m\u001b[0mitems\u001b[0m\u001b[0;34m(\u001b[0m\u001b[0;34m)\u001b[0m\u001b[0;34m,\u001b[0m \u001b[0mkey\u001b[0m\u001b[0;34m=\u001b[0m\u001b[0md\u001b[0m\u001b[0;34m.\u001b[0m\u001b[0mvalues\u001b[0m\u001b[0;34m)\u001b[0m\u001b[0;34m\u001b[0m\u001b[0;34m\u001b[0m\u001b[0m\n\u001b[0m",
      "\u001b[0;31mTypeError\u001b[0m: dict.values() takes no arguments (1 given)"
     ]
    }
   ],
   "source": [
    "# when we call sorted, we pass it two arguments\n",
    "# - first, unnamed, is the set of values we want to sort\n",
    "# - second, key parameter, is the function we want to invoke on each value to determine the ordering\n",
    "\n",
    "sorted(d.items(), key=d.values)"
   ]
  },
  {
   "cell_type": "markdown",
   "metadata": {},
   "source": [
    "# Next up\n",
    "\n",
    "- More with `lambda`\n",
    "- The `operator` module\n",
    "- `map`, `filter`, and `reduce` "
   ]
  },
  {
   "cell_type": "markdown",
   "metadata": {},
   "source": [
    "# Exercise: Calculator with `lambda`\n",
    "\n",
    "Rewrite the calculator, such that it doesn't use explicitly defined functions (e.g., `add`, `sub`, and `mul`), but rather uses inline-defined functions with `lambda`."
   ]
  },
  {
   "cell_type": "code",
   "execution_count": 152,
   "metadata": {},
   "outputs": [
    {
     "name": "stdout",
     "output_type": "stream",
     "text": [
      "Enter math expression: 2 + 3\n",
      "5\n",
      "Enter math expression: 2 - 9\n",
      "-7\n",
      "Enter math expression: 100 * 2345\n",
      "234500\n",
      "Enter math expression: \n"
     ]
    }
   ],
   "source": [
    "choices = {'+' : lambda a, b: a+b,\n",
    "           '-' : lambda a, b: a-b,\n",
    "           '*' : lambda a, b: a*b}\n",
    "\n",
    "while s := input('Enter math expression: ').strip():\n",
    "    \n",
    "    first, op, second = s.split()\n",
    "    \n",
    "    if op in choices:\n",
    "        try:\n",
    "            print(choices[op](int(first), int(second)))\n",
    "        except ValueError:\n",
    "            print(f'You must use numbers!  Try again.')\n",
    "    else:\n",
    "        print(f'Operator {op} is not supported yet -- wait for version 2!')    "
   ]
  },
  {
   "cell_type": "code",
   "execution_count": 153,
   "metadata": {},
   "outputs": [
    {
     "data": {
      "text/plain": [
       "{'x': 5}"
      ]
     },
     "execution_count": 153,
     "metadata": {},
     "output_type": "execute_result"
    }
   ],
   "source": [
    "# When a function executes, you can run the \"locals\" builtin function.  It'll return\n",
    "# a dict of all local variables with variable names as strings and variable values as their values.\n",
    "\n",
    "# This is similar to \"globals\", which you can run anywhere.\n",
    "\n",
    "# Here, I define a function that takes one argument (in parameter x), and then execute\n",
    "# the function, passing it 5.\n",
    "\n",
    "# My goal was to know whether lambdas have local variables, like all functions.\n",
    "# Answer: Yes.\n",
    "\n",
    "(lambda x: locals())(5)"
   ]
  },
  {
   "cell_type": "markdown",
   "metadata": {},
   "source": [
    "# The `operator` module\n",
    "\n",
    "The `operator` module contains functions that implement just about every operator in Python.  In this way, you don't have to write functions that do the things which we have from operators (e.g., `+`, `[]`, `**`).  By using `operator` and the functions it defines, you can get the same results as you would have from `lambda` but without using `lambda` yourself, or writing the function yourself."
   ]
  },
  {
   "cell_type": "code",
   "execution_count": 155,
   "metadata": {},
   "outputs": [
    {
     "name": "stdout",
     "output_type": "stream",
     "text": [
      "Enter math expression: 2 * 15\n",
      "30\n",
      "Enter math expression: 12345 - 98766\n",
      "-86421\n",
      "Enter math expression: \n"
     ]
    }
   ],
   "source": [
    "import operator\n",
    "\n",
    "choices = {'+' : operator.add,\n",
    "           '-' : operator.sub,\n",
    "           '*' : operator.mul}\n",
    "\n",
    "while s := input('Enter math expression: ').strip():\n",
    "    \n",
    "    first, op, second = s.split()\n",
    "    \n",
    "    if op in choices:\n",
    "        try:\n",
    "            print(choices[op](int(first), int(second)))\n",
    "        except ValueError:\n",
    "            print(f'You must use numbers!  Try again.')\n",
    "    else:\n",
    "        print(f'Operator {op} is not supported yet -- wait for version 2!')    "
   ]
  },
  {
   "cell_type": "code",
   "execution_count": null,
   "metadata": {},
   "outputs": [],
   "source": [
    "# operator.itemgetter implements []"
   ]
  }
 ],
 "metadata": {
  "kernelspec": {
   "display_name": "Python 3",
   "language": "python",
   "name": "python3"
  },
  "language_info": {
   "codemirror_mode": {
    "name": "ipython",
    "version": 3
   },
   "file_extension": ".py",
   "mimetype": "text/x-python",
   "name": "python",
   "nbconvert_exporter": "python",
   "pygments_lexer": "ipython3",
   "version": "3.9.7"
  }
 },
 "nbformat": 4,
 "nbformat_minor": 4
}
