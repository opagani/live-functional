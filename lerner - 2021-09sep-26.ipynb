{
 "cells": [
  {
   "cell_type": "markdown",
   "metadata": {},
   "source": [
    "# Agenda — Functional Python\n",
    "\n",
    "1. What is functional programming?\n",
    "2. Functions as data (as nouns)\n",
    "3. Storing functions \n",
    "4. Partial functions\n",
    "5. Single dispatch\n",
    "6. `lambda`\n",
    "7. The `operator` module\n",
    "8. `map`, `filter`, and `reduce`"
   ]
  },
  {
   "cell_type": "markdown",
   "metadata": {},
   "source": [
    "# What is functional programming?\n",
    "\n",
    "In programming, we use terms like \"function\" and \"variable\" which come from the world of mathematics. But of course, functions in the programming world and functions in the math world aren't the same.  For example, functions in the programming world can assign to variables, can modify state, can be procedures -- executing things -- not just pure functions that return values.  Variables are similarly problematic if you're a mathematicitian, because you can assign to a variable, and you can take a list variable and modify one of its elements -- that is, data is often mutable.\n",
    "\n",
    "Functional programming was an attempt to make programming more mathematical:\n",
    "- Let's treat data as immutable, to greatest degree possible.\n",
    "- Let's also avoid assigning to variables as much as possible, especially re-assigning, and even more especially inside of functions.\n",
    "- Let's avoid assignment in functions, as well as too many paths\n",
    "- Let's treat functions not just as verbs (i.e., things you can execute), but also as nouns (i.e., as data which you can store, pass around, and use like other data)"
   ]
  },
  {
   "cell_type": "markdown",
   "metadata": {},
   "source": [
    "# Functions as nouns\n",
    "\n",
    "Python functions are objects, just like everything else."
   ]
  },
  {
   "cell_type": "code",
   "execution_count": 1,
   "metadata": {},
   "outputs": [
    {
     "data": {
      "text/plain": [
       "4"
      ]
     },
     "execution_count": 1,
     "metadata": {},
     "output_type": "execute_result"
    }
   ],
   "source": [
    "s = 'abcd'\n",
    "x = len(s)  # run the function \"len\" on the string s, and get a result\n",
    "\n",
    "x"
   ]
  },
  {
   "cell_type": "code",
   "execution_count": 2,
   "metadata": {},
   "outputs": [
    {
     "data": {
      "text/plain": [
       "int"
      ]
     },
     "execution_count": 2,
     "metadata": {},
     "output_type": "execute_result"
    }
   ],
   "source": [
    "type(x)"
   ]
  },
  {
   "cell_type": "code",
   "execution_count": 4,
   "metadata": {},
   "outputs": [
    {
     "data": {
      "text/plain": [
       "'ABCD'"
      ]
     },
     "execution_count": 4,
     "metadata": {},
     "output_type": "execute_result"
    }
   ],
   "source": [
    "x = s.upper()   # we're running the method \"upper\" on the string s\n",
    "\n",
    "x\n"
   ]
  },
  {
   "cell_type": "code",
   "execution_count": 5,
   "metadata": {},
   "outputs": [
    {
     "data": {
      "text/plain": [
       "str"
      ]
     },
     "execution_count": 5,
     "metadata": {},
     "output_type": "execute_result"
    }
   ],
   "source": [
    "type(x)"
   ]
  },
  {
   "cell_type": "code",
   "execution_count": 6,
   "metadata": {},
   "outputs": [],
   "source": [
    "x = s.upper   # notice: no parentheses here!"
   ]
  },
  {
   "cell_type": "code",
   "execution_count": 7,
   "metadata": {},
   "outputs": [
    {
     "data": {
      "text/plain": [
       "<function str.upper()>"
      ]
     },
     "execution_count": 7,
     "metadata": {},
     "output_type": "execute_result"
    }
   ],
   "source": [
    "x   "
   ]
  },
  {
   "cell_type": "code",
   "execution_count": 8,
   "metadata": {},
   "outputs": [
    {
     "data": {
      "text/plain": [
       "builtin_function_or_method"
      ]
     },
     "execution_count": 8,
     "metadata": {},
     "output_type": "execute_result"
    }
   ],
   "source": [
    "type(x)"
   ]
  },
  {
   "cell_type": "code",
   "execution_count": 9,
   "metadata": {},
   "outputs": [
    {
     "data": {
      "text/plain": [
       "'ABCD'"
      ]
     },
     "execution_count": 9,
     "metadata": {},
     "output_type": "execute_result"
    }
   ],
   "source": [
    "x()"
   ]
  },
  {
   "cell_type": "code",
   "execution_count": 12,
   "metadata": {},
   "outputs": [
    {
     "data": {
      "text/plain": [
       "[49, 97, 53, 5, 33, 65, 62, 51, 100, 38]"
      ]
     },
     "execution_count": 12,
     "metadata": {},
     "output_type": "execute_result"
    }
   ],
   "source": [
    "import random\n",
    "\n",
    "random.seed(0)\n",
    "mylist = [random.randint(0, 100)\n",
    "          for i in range(10)]\n",
    "\n",
    "mylist"
   ]
  },
  {
   "cell_type": "code",
   "execution_count": 13,
   "metadata": {},
   "outputs": [],
   "source": [
    "# how can I sort this list of numbers?\n",
    "\n",
    "mylist.sort()   # this changes the list, so that it's sorted (increasing order), and it returns None"
   ]
  },
  {
   "cell_type": "code",
   "execution_count": 14,
   "metadata": {},
   "outputs": [
    {
     "data": {
      "text/plain": [
       "[5, 33, 38, 49, 51, 53, 62, 65, 97, 100]"
      ]
     },
     "execution_count": 14,
     "metadata": {},
     "output_type": "execute_result"
    }
   ],
   "source": [
    "mylist"
   ]
  },
  {
   "cell_type": "code",
   "execution_count": 15,
   "metadata": {},
   "outputs": [
    {
     "data": {
      "text/plain": [
       "[5, 33, 38, 49, 51, 53, 62, 65, 97, 100]"
      ]
     },
     "execution_count": 15,
     "metadata": {},
     "output_type": "execute_result"
    }
   ],
   "source": [
    "# using list.sort is somewhat passe.  Nowadays, it's considered weird or bad to modify\n",
    "# the list and sort it.\n",
    "\n",
    "# however, we have another option -- the function \"sorted\", which is functional -- it doesn't\n",
    "# modify its source, and does return a new list, based on the argument it got, sorted from low to high\n",
    "\n",
    "random.seed(0)\n",
    "mylist = [random.randint(0, 100)\n",
    "          for i in range(10)]\n",
    "\n",
    "sorted(mylist)"
   ]
  },
  {
   "cell_type": "code",
   "execution_count": 16,
   "metadata": {},
   "outputs": [
    {
     "data": {
      "text/plain": [
       "[49, 97, 53, 5, 33, 65, 62, 51, 100, 38]"
      ]
     },
     "execution_count": 16,
     "metadata": {},
     "output_type": "execute_result"
    }
   ],
   "source": [
    "mylist"
   ]
  },
  {
   "cell_type": "code",
   "execution_count": 17,
   "metadata": {},
   "outputs": [
    {
     "data": {
      "text/plain": [
       "['Python', 'This', 'a', 'bunch', 'course', 'for', 'is', 'my', 'of', 'words']"
      ]
     },
     "execution_count": 17,
     "metadata": {},
     "output_type": "execute_result"
    }
   ],
   "source": [
    "words = 'This is a bunch of words for my Python course'.split()\n",
    "\n",
    "sorted(words)  # returns a list of strings, based on words, from lowest to highest"
   ]
  },
  {
   "cell_type": "code",
   "execution_count": 18,
   "metadata": {},
   "outputs": [],
   "source": [
    "# I want to sort these words in ascending order *IGNORING* their case.\n",
    "# I want to keep their original capitalization, but sort them as if they were all lowercase\n",
    "\n",
    "# In order to do this, I am going to pass a function to \"sorted\" as an argument, \n",
    "# it's the \"key\" argument\n",
    "\n"
   ]
  },
  {
   "cell_type": "code",
   "execution_count": 19,
   "metadata": {},
   "outputs": [],
   "source": [
    "# normally, \"sorted\" looks at pairs of items in \"words\", and compares them \n",
    "# with one another, checking\n",
    "\n",
    "# A < B\n",
    "\n",
    "# what we want to do is as follows:\n",
    "\n",
    "# f(A) < f(B)\n",
    "\n",
    "# meaning: given a function f that can be applied to any two elements in mylist,\n",
    "# let's find out whether f(A) < f(B), and if so, make sure they're in the right order.\n",
    "\n"
   ]
  },
  {
   "cell_type": "code",
   "execution_count": 20,
   "metadata": {},
   "outputs": [
    {
     "data": {
      "text/plain": [
       "['a', 'bunch', 'course', 'for', 'is', 'my', 'of', 'Python', 'This', 'words']"
      ]
     },
     "execution_count": 20,
     "metadata": {},
     "output_type": "execute_result"
    }
   ],
   "source": [
    "# key will get a function as an argument\n",
    "# the function must take a single argument\n",
    "# \"sorted\" will invoke our function once on each element of \"words\"\n",
    "# \"sorted\" will use the result of our function on each element to decide how it sorts things\n",
    "\n",
    "sorted(words, key=str.lower)"
   ]
  },
  {
   "cell_type": "code",
   "execution_count": 21,
   "metadata": {},
   "outputs": [
    {
     "data": {
      "text/plain": [
       "['a', 'is', 'of', 'my', 'for', 'This', 'bunch', 'words', 'Python', 'course']"
      ]
     },
     "execution_count": 21,
     "metadata": {},
     "output_type": "execute_result"
    }
   ],
   "source": [
    "# sort the words in \"words\" by length\n",
    "\n",
    "sorted(words, key=len)"
   ]
  },
  {
   "cell_type": "code",
   "execution_count": 22,
   "metadata": {},
   "outputs": [
    {
     "name": "stdout",
     "output_type": "stream",
     "text": [
      "Now checking This\n",
      "Now checking is\n",
      "Now checking a\n",
      "Now checking bunch\n",
      "Now checking of\n",
      "Now checking words\n",
      "Now checking for\n",
      "Now checking my\n",
      "Now checking Python\n",
      "Now checking course\n"
     ]
    },
    {
     "data": {
      "text/plain": [
       "['a', 'is', 'of', 'my', 'for', 'This', 'bunch', 'words', 'Python', 'course']"
      ]
     },
     "execution_count": 22,
     "metadata": {},
     "output_type": "execute_result"
    }
   ],
   "source": [
    "def by_loud_len(one_word):\n",
    "    print(f'Now checking {one_word}')\n",
    "    return len(one_word)\n",
    "\n",
    "sorted(words, key=by_loud_len)"
   ]
  },
  {
   "cell_type": "code",
   "execution_count": 23,
   "metadata": {},
   "outputs": [
    {
     "data": {
      "text/plain": [
       "['a', 'is', 'my', 'of', 'for', 'This', 'bunch', 'words', 'course', 'Python']"
      ]
     },
     "execution_count": 23,
     "metadata": {},
     "output_type": "execute_result"
    }
   ],
   "source": [
    "# Doug wants us to sort primarily by size, and then alphabetically within the size\n",
    "\n",
    "# Yes, we can do this!\n",
    "# Our key function returns something sortable (\"comparable\")\n",
    "\n",
    "def by_len_then_lower(one_word):\n",
    "    return len(one_word), one_word.lower()\n",
    "\n",
    "sorted(words, key=by_len_then_lower)"
   ]
  },
  {
   "cell_type": "code",
   "execution_count": 24,
   "metadata": {},
   "outputs": [
    {
     "data": {
      "text/plain": [
       "['Python', 'course', 'words', 'bunch', 'This', 'for', 'of', 'my', 'is', 'a']"
      ]
     },
     "execution_count": 24,
     "metadata": {},
     "output_type": "execute_result"
    }
   ],
   "source": [
    "# what if I want to sort in descending order?\n",
    "\n",
    "sorted(words, key=by_len_then_lower, reverse=True)"
   ]
  },
  {
   "cell_type": "code",
   "execution_count": 25,
   "metadata": {},
   "outputs": [
    {
     "data": {
      "text/plain": [
       "['course', 'Python', 'bunch', 'words', 'This', 'for', 'is', 'my', 'of', 'a']"
      ]
     },
     "execution_count": 25,
     "metadata": {},
     "output_type": "execute_result"
    }
   ],
   "source": [
    "# what if I want to sort in descending length order, and ascending alphabetical order?\n",
    "\n",
    "def by_len_then_lower(one_word):\n",
    "    return -len(one_word), one_word.lower()\n",
    "\n",
    "sorted(words, key=by_len_then_lower)"
   ]
  },
  {
   "cell_type": "markdown",
   "metadata": {},
   "source": [
    "# Exercise: Sort by vowel count\n",
    "\n",
    "1. Write a function, `by_vowel_count`, that takes a string and returns the number of vowels in the string.\n",
    "2. Ask the user to enter a bunch of words\n",
    "3. Print the words, sorted by increasing number of vowels."
   ]
  },
  {
   "cell_type": "code",
   "execution_count": null,
   "metadata": {},
   "outputs": [],
   "source": [
    "def by_vowel_count(s):\n",
    "    total = 0\n",
    "    \n",
    "    for o"
   ]
  }
 ],
 "metadata": {
  "kernelspec": {
   "display_name": "Python 3",
   "language": "python",
   "name": "python3"
  },
  "language_info": {
   "codemirror_mode": {
    "name": "ipython",
    "version": 3
   },
   "file_extension": ".py",
   "mimetype": "text/x-python",
   "name": "python",
   "nbconvert_exporter": "python",
   "pygments_lexer": "ipython3",
   "version": "3.9.7"
  }
 },
 "nbformat": 4,
 "nbformat_minor": 4
}
