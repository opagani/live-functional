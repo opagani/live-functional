{
 "cells": [
  {
   "cell_type": "markdown",
   "metadata": {},
   "source": [
    "# Agenda — Functional Python\n",
    "\n",
    "1. What is functional programming?\n",
    "2. Functions as data (as nouns)\n",
    "3. Storing functions \n",
    "4. Partial functions\n",
    "5. Single dispatch\n",
    "6. `lambda`\n",
    "7. The `operator` module\n",
    "8. `map`, `filter`, and `reduce`"
   ]
  },
  {
   "cell_type": "markdown",
   "metadata": {},
   "source": [
    "# What is functional programming?\n",
    "\n",
    "In programming, we use terms like \"function\" and \"variable\" which come from the world of mathematics. But of course, functions in the programming world and functions in the math world aren't the same.  For example, functions in the programming world can assign to variables, can modify state, can be procedures -- executing things -- not just pure functions that return values.  Variables are similarly problematic if you're a mathematicitian, because you can assign to a variable, and you can take a list variable and modify one of its elements -- that is, data is often mutable.\n",
    "\n",
    "Functional programming was an attempt to make programming more mathematical:\n",
    "- Let's treat data as immutable, to greatest degree possible.\n",
    "- Let's also avoid assigning to variables as much as possible, especially re-assigning, and even more especially inside of functions.\n",
    "- Let's avoid assignment in functions, as well as too many paths\n",
    "- Let's treat functions not just as verbs (i.e., things you can execute), but also as nouns (i.e., as data which you can store, pass around, and use like other data)"
   ]
  },
  {
   "cell_type": "markdown",
   "metadata": {},
   "source": [
    "# Functions as nouns\n",
    "\n",
    "Python functions are objects, just like everything else."
   ]
  },
  {
   "cell_type": "code",
   "execution_count": 1,
   "metadata": {},
   "outputs": [
    {
     "data": {
      "text/plain": [
       "4"
      ]
     },
     "execution_count": 1,
     "metadata": {},
     "output_type": "execute_result"
    }
   ],
   "source": [
    "s = 'abcd'\n",
    "x = len(s)  # run the function \"len\" on the string s, and get a result\n",
    "\n",
    "x"
   ]
  },
  {
   "cell_type": "code",
   "execution_count": 2,
   "metadata": {},
   "outputs": [
    {
     "data": {
      "text/plain": [
       "int"
      ]
     },
     "execution_count": 2,
     "metadata": {},
     "output_type": "execute_result"
    }
   ],
   "source": [
    "type(x)"
   ]
  },
  {
   "cell_type": "code",
   "execution_count": 4,
   "metadata": {},
   "outputs": [
    {
     "data": {
      "text/plain": [
       "'ABCD'"
      ]
     },
     "execution_count": 4,
     "metadata": {},
     "output_type": "execute_result"
    }
   ],
   "source": [
    "x = s.upper()   # we're running the method \"upper\" on the string s\n",
    "\n",
    "x\n"
   ]
  },
  {
   "cell_type": "code",
   "execution_count": 5,
   "metadata": {},
   "outputs": [
    {
     "data": {
      "text/plain": [
       "str"
      ]
     },
     "execution_count": 5,
     "metadata": {},
     "output_type": "execute_result"
    }
   ],
   "source": [
    "type(x)"
   ]
  },
  {
   "cell_type": "code",
   "execution_count": 6,
   "metadata": {},
   "outputs": [],
   "source": [
    "x = s.upper   # notice: no parentheses here!"
   ]
  },
  {
   "cell_type": "code",
   "execution_count": 7,
   "metadata": {},
   "outputs": [
    {
     "data": {
      "text/plain": [
       "<function str.upper()>"
      ]
     },
     "execution_count": 7,
     "metadata": {},
     "output_type": "execute_result"
    }
   ],
   "source": [
    "x   "
   ]
  },
  {
   "cell_type": "code",
   "execution_count": 8,
   "metadata": {},
   "outputs": [
    {
     "data": {
      "text/plain": [
       "builtin_function_or_method"
      ]
     },
     "execution_count": 8,
     "metadata": {},
     "output_type": "execute_result"
    }
   ],
   "source": [
    "type(x)"
   ]
  },
  {
   "cell_type": "code",
   "execution_count": 9,
   "metadata": {},
   "outputs": [
    {
     "data": {
      "text/plain": [
       "'ABCD'"
      ]
     },
     "execution_count": 9,
     "metadata": {},
     "output_type": "execute_result"
    }
   ],
   "source": [
    "x()"
   ]
  },
  {
   "cell_type": "code",
   "execution_count": 12,
   "metadata": {},
   "outputs": [
    {
     "data": {
      "text/plain": [
       "[49, 97, 53, 5, 33, 65, 62, 51, 100, 38]"
      ]
     },
     "execution_count": 12,
     "metadata": {},
     "output_type": "execute_result"
    }
   ],
   "source": [
    "import random\n",
    "\n",
    "random.seed(0)\n",
    "mylist = [random.randint(0, 100)\n",
    "          for i in range(10)]\n",
    "\n",
    "mylist"
   ]
  },
  {
   "cell_type": "code",
   "execution_count": 13,
   "metadata": {},
   "outputs": [],
   "source": [
    "# how can I sort this list of numbers?\n",
    "\n",
    "mylist.sort()   # this changes the list, so that it's sorted (increasing order), and it returns None"
   ]
  },
  {
   "cell_type": "code",
   "execution_count": 14,
   "metadata": {},
   "outputs": [
    {
     "data": {
      "text/plain": [
       "[5, 33, 38, 49, 51, 53, 62, 65, 97, 100]"
      ]
     },
     "execution_count": 14,
     "metadata": {},
     "output_type": "execute_result"
    }
   ],
   "source": [
    "mylist"
   ]
  },
  {
   "cell_type": "code",
   "execution_count": 15,
   "metadata": {},
   "outputs": [
    {
     "data": {
      "text/plain": [
       "[5, 33, 38, 49, 51, 53, 62, 65, 97, 100]"
      ]
     },
     "execution_count": 15,
     "metadata": {},
     "output_type": "execute_result"
    }
   ],
   "source": [
    "# using list.sort is somewhat passe.  Nowadays, it's considered weird or bad to modify\n",
    "# the list and sort it.\n",
    "\n",
    "# however, we have another option -- the function \"sorted\", which is functional -- it doesn't\n",
    "# modify its source, and does return a new list, based on the argument it got, sorted from low to high\n",
    "\n",
    "random.seed(0)\n",
    "mylist = [random.randint(0, 100)\n",
    "          for i in range(10)]\n",
    "\n",
    "sorted(mylist)"
   ]
  },
  {
   "cell_type": "code",
   "execution_count": 16,
   "metadata": {},
   "outputs": [
    {
     "data": {
      "text/plain": [
       "[49, 97, 53, 5, 33, 65, 62, 51, 100, 38]"
      ]
     },
     "execution_count": 16,
     "metadata": {},
     "output_type": "execute_result"
    }
   ],
   "source": [
    "mylist"
   ]
  },
  {
   "cell_type": "code",
   "execution_count": 17,
   "metadata": {},
   "outputs": [
    {
     "data": {
      "text/plain": [
       "['Python', 'This', 'a', 'bunch', 'course', 'for', 'is', 'my', 'of', 'words']"
      ]
     },
     "execution_count": 17,
     "metadata": {},
     "output_type": "execute_result"
    }
   ],
   "source": [
    "words = 'This is a bunch of words for my Python course'.split()\n",
    "\n",
    "sorted(words)  # returns a list of strings, based on words, from lowest to highest"
   ]
  },
  {
   "cell_type": "code",
   "execution_count": 18,
   "metadata": {},
   "outputs": [],
   "source": [
    "# I want to sort these words in ascending order *IGNORING* their case.\n",
    "# I want to keep their original capitalization, but sort them as if they were all lowercase\n",
    "\n",
    "# In order to do this, I am going to pass a function to \"sorted\" as an argument, \n",
    "# it's the \"key\" argument\n",
    "\n"
   ]
  },
  {
   "cell_type": "code",
   "execution_count": 19,
   "metadata": {},
   "outputs": [],
   "source": [
    "# normally, \"sorted\" looks at pairs of items in \"words\", and compares them \n",
    "# with one another, checking\n",
    "\n",
    "# A < B\n",
    "\n",
    "# what we want to do is as follows:\n",
    "\n",
    "# f(A) < f(B)\n",
    "\n",
    "# meaning: given a function f that can be applied to any two elements in mylist,\n",
    "# let's find out whether f(A) < f(B), and if so, make sure they're in the right order.\n",
    "\n"
   ]
  },
  {
   "cell_type": "code",
   "execution_count": 20,
   "metadata": {},
   "outputs": [
    {
     "data": {
      "text/plain": [
       "['a', 'bunch', 'course', 'for', 'is', 'my', 'of', 'Python', 'This', 'words']"
      ]
     },
     "execution_count": 20,
     "metadata": {},
     "output_type": "execute_result"
    }
   ],
   "source": [
    "# key will get a function as an argument\n",
    "# the function must take a single argument\n",
    "# \"sorted\" will invoke our function once on each element of \"words\"\n",
    "# \"sorted\" will use the result of our function on each element to decide how it sorts things\n",
    "\n",
    "sorted(words, key=str.lower)"
   ]
  },
  {
   "cell_type": "code",
   "execution_count": 21,
   "metadata": {},
   "outputs": [
    {
     "data": {
      "text/plain": [
       "['a', 'is', 'of', 'my', 'for', 'This', 'bunch', 'words', 'Python', 'course']"
      ]
     },
     "execution_count": 21,
     "metadata": {},
     "output_type": "execute_result"
    }
   ],
   "source": [
    "# sort the words in \"words\" by length\n",
    "\n",
    "sorted(words, key=len)"
   ]
  },
  {
   "cell_type": "code",
   "execution_count": 22,
   "metadata": {},
   "outputs": [
    {
     "name": "stdout",
     "output_type": "stream",
     "text": [
      "Now checking This\n",
      "Now checking is\n",
      "Now checking a\n",
      "Now checking bunch\n",
      "Now checking of\n",
      "Now checking words\n",
      "Now checking for\n",
      "Now checking my\n",
      "Now checking Python\n",
      "Now checking course\n"
     ]
    },
    {
     "data": {
      "text/plain": [
       "['a', 'is', 'of', 'my', 'for', 'This', 'bunch', 'words', 'Python', 'course']"
      ]
     },
     "execution_count": 22,
     "metadata": {},
     "output_type": "execute_result"
    }
   ],
   "source": [
    "def by_loud_len(one_word):\n",
    "    print(f'Now checking {one_word}')\n",
    "    return len(one_word)\n",
    "\n",
    "sorted(words, key=by_loud_len)"
   ]
  },
  {
   "cell_type": "code",
   "execution_count": 23,
   "metadata": {},
   "outputs": [
    {
     "data": {
      "text/plain": [
       "['a', 'is', 'my', 'of', 'for', 'This', 'bunch', 'words', 'course', 'Python']"
      ]
     },
     "execution_count": 23,
     "metadata": {},
     "output_type": "execute_result"
    }
   ],
   "source": [
    "# Doug wants us to sort primarily by size, and then alphabetically within the size\n",
    "\n",
    "# Yes, we can do this!\n",
    "# Our key function returns something sortable (\"comparable\")\n",
    "\n",
    "def by_len_then_lower(one_word):\n",
    "    return len(one_word), one_word.lower()\n",
    "\n",
    "sorted(words, key=by_len_then_lower)"
   ]
  },
  {
   "cell_type": "code",
   "execution_count": 24,
   "metadata": {},
   "outputs": [
    {
     "data": {
      "text/plain": [
       "['Python', 'course', 'words', 'bunch', 'This', 'for', 'of', 'my', 'is', 'a']"
      ]
     },
     "execution_count": 24,
     "metadata": {},
     "output_type": "execute_result"
    }
   ],
   "source": [
    "# what if I want to sort in descending order?\n",
    "\n",
    "sorted(words, key=by_len_then_lower, reverse=True)"
   ]
  },
  {
   "cell_type": "code",
   "execution_count": 25,
   "metadata": {},
   "outputs": [
    {
     "data": {
      "text/plain": [
       "['course', 'Python', 'bunch', 'words', 'This', 'for', 'is', 'my', 'of', 'a']"
      ]
     },
     "execution_count": 25,
     "metadata": {},
     "output_type": "execute_result"
    }
   ],
   "source": [
    "# what if I want to sort in descending length order, and ascending alphabetical order?\n",
    "\n",
    "def by_len_then_lower(one_word):\n",
    "    return -len(one_word), one_word.lower()\n",
    "\n",
    "sorted(words, key=by_len_then_lower)"
   ]
  },
  {
   "cell_type": "markdown",
   "metadata": {},
   "source": [
    "# Exercise: Sort by vowel count\n",
    "\n",
    "1. Write a function, `by_vowel_count`, that takes a string and returns the number of vowels in the string.\n",
    "2. Ask the user to enter a bunch of words\n",
    "3. Print the words, sorted by increasing number of vowels."
   ]
  },
  {
   "cell_type": "code",
   "execution_count": 31,
   "metadata": {},
   "outputs": [
    {
     "name": "stdout",
     "output_type": "stream",
     "text": [
      "Enter some words: this is another test of my fantastic program\n"
     ]
    }
   ],
   "source": [
    "def by_vowel_count(s):\n",
    "    total = 0\n",
    "    \n",
    "    for one_character in s.lower():\n",
    "        if one_character in 'aeiou':\n",
    "            total += 1\n",
    "            \n",
    "    print(f'Returning {total} for word {s}')\n",
    "            \n",
    "    return total\n",
    "\n",
    "words = input('Enter some words: ').split()"
   ]
  },
  {
   "cell_type": "code",
   "execution_count": 32,
   "metadata": {},
   "outputs": [
    {
     "name": "stdout",
     "output_type": "stream",
     "text": [
      "Returning 1 for word this\n",
      "Returning 1 for word is\n",
      "Returning 3 for word another\n",
      "Returning 1 for word test\n",
      "Returning 1 for word of\n",
      "Returning 0 for word my\n",
      "Returning 3 for word fantastic\n",
      "Returning 2 for word program\n"
     ]
    },
    {
     "data": {
      "text/plain": [
       "['my', 'this', 'is', 'test', 'of', 'program', 'another', 'fantastic']"
      ]
     },
     "execution_count": 32,
     "metadata": {},
     "output_type": "execute_result"
    }
   ],
   "source": [
    "sorted(words, key=by_vowel_count)"
   ]
  },
  {
   "cell_type": "code",
   "execution_count": 33,
   "metadata": {},
   "outputs": [
    {
     "data": {
      "text/plain": [
       "'another'"
      ]
     },
     "execution_count": 33,
     "metadata": {},
     "output_type": "execute_result"
    }
   ],
   "source": [
    "# there are two variations on sorted in Python\n",
    "\n",
    "min(words)"
   ]
  },
  {
   "cell_type": "code",
   "execution_count": 34,
   "metadata": {},
   "outputs": [
    {
     "name": "stdout",
     "output_type": "stream",
     "text": [
      "Returning 1 for word this\n",
      "Returning 1 for word is\n",
      "Returning 3 for word another\n",
      "Returning 1 for word test\n",
      "Returning 1 for word of\n",
      "Returning 0 for word my\n",
      "Returning 3 for word fantastic\n",
      "Returning 2 for word program\n"
     ]
    },
    {
     "data": {
      "text/plain": [
       "'my'"
      ]
     },
     "execution_count": 34,
     "metadata": {},
     "output_type": "execute_result"
    }
   ],
   "source": [
    "min(words, key=by_vowel_count)  # same as sorted(words, key=by_vowel_count)[0]"
   ]
  },
  {
   "cell_type": "code",
   "execution_count": 35,
   "metadata": {},
   "outputs": [
    {
     "name": "stdout",
     "output_type": "stream",
     "text": [
      "Returning 1 for word this\n",
      "Returning 1 for word is\n",
      "Returning 3 for word another\n",
      "Returning 1 for word test\n",
      "Returning 1 for word of\n",
      "Returning 0 for word my\n",
      "Returning 3 for word fantastic\n",
      "Returning 2 for word program\n"
     ]
    },
    {
     "data": {
      "text/plain": [
       "'another'"
      ]
     },
     "execution_count": 35,
     "metadata": {},
     "output_type": "execute_result"
    }
   ],
   "source": [
    "max(words, key=by_vowel_count)  # same as sorted(words, key=by_vowel_count)[-1]"
   ]
  },
  {
   "cell_type": "code",
   "execution_count": 37,
   "metadata": {},
   "outputs": [],
   "source": [
    "people = [{'first':'Reuven', 'last':'Lerner', 'age':51},\n",
    "          {'first':'Atara', 'last':'Lerner-Friedman', 'age':20},\n",
    "         {'first':'Shikma', 'last':'Lerner-Friedman', 'age':18},\n",
    "         {'first':'Amotz', 'last':'Lerner-Friedman', 'age':15}]\n",
    "\n"
   ]
  },
  {
   "cell_type": "code",
   "execution_count": 38,
   "metadata": {},
   "outputs": [
    {
     "data": {
      "text/plain": [
       "4"
      ]
     },
     "execution_count": 38,
     "metadata": {},
     "output_type": "execute_result"
    }
   ],
   "source": [
    "len(people)"
   ]
  },
  {
   "cell_type": "code",
   "execution_count": 39,
   "metadata": {},
   "outputs": [
    {
     "ename": "TypeError",
     "evalue": "'<' not supported between instances of 'dict' and 'dict'",
     "output_type": "error",
     "traceback": [
      "\u001b[0;31m---------------------------------------------------------------------------\u001b[0m",
      "\u001b[0;31mTypeError\u001b[0m                                 Traceback (most recent call last)",
      "\u001b[0;32m<ipython-input-39-2e56109f3fb1>\u001b[0m in \u001b[0;36m<module>\u001b[0;34m\u001b[0m\n\u001b[0;32m----> 1\u001b[0;31m \u001b[0msorted\u001b[0m\u001b[0;34m(\u001b[0m\u001b[0mpeople\u001b[0m\u001b[0;34m)\u001b[0m\u001b[0;34m\u001b[0m\u001b[0;34m\u001b[0m\u001b[0m\n\u001b[0m",
      "\u001b[0;31mTypeError\u001b[0m: '<' not supported between instances of 'dict' and 'dict'"
     ]
    }
   ],
   "source": [
    "sorted(people)"
   ]
  },
  {
   "cell_type": "code",
   "execution_count": 40,
   "metadata": {},
   "outputs": [
    {
     "data": {
      "text/plain": [
       "[{'first': 'Reuven', 'last': 'Lerner', 'age': 51},\n",
       " {'first': 'Amotz', 'last': 'Lerner-Friedman', 'age': 15},\n",
       " {'first': 'Atara', 'last': 'Lerner-Friedman', 'age': 20},\n",
       " {'first': 'Shikma', 'last': 'Lerner-Friedman', 'age': 18}]"
      ]
     },
     "execution_count": 40,
     "metadata": {},
     "output_type": "execute_result"
    }
   ],
   "source": [
    "def by_last_then_first(person_dict):\n",
    "    return person_dict['last'], person_dict['first']   # returning a tuple -- even without (), it's a tuple\n",
    "\n",
    "sorted(people, key=by_last_then_first)"
   ]
  },
  {
   "cell_type": "code",
   "execution_count": 41,
   "metadata": {},
   "outputs": [
    {
     "data": {
      "text/plain": [
       "(10, 20, 30)"
      ]
     },
     "execution_count": 41,
     "metadata": {},
     "output_type": "execute_result"
    }
   ],
   "source": [
    "t = (10, 20, 30)   # obviously a tuple\n",
    "t"
   ]
  },
  {
   "cell_type": "code",
   "execution_count": 42,
   "metadata": {},
   "outputs": [
    {
     "data": {
      "text/plain": [
       "(10, 20, 30)"
      ]
     },
     "execution_count": 42,
     "metadata": {},
     "output_type": "execute_result"
    }
   ],
   "source": [
    "t = 10, 20, 30    # not as obviously a tuple\n",
    "t"
   ]
  },
  {
   "cell_type": "markdown",
   "metadata": {},
   "source": [
    "# Lists of functions\n",
    "\n"
   ]
  },
  {
   "cell_type": "code",
   "execution_count": 43,
   "metadata": {},
   "outputs": [
    {
     "name": "stdout",
     "output_type": "stream",
     "text": [
      "\tNow applying double\n",
      "\tNow applying negate\n",
      "Result is -10\n",
      "\tNow applying double\n",
      "\tNow applying negate\n",
      "Result is -20\n",
      "\tNow applying double\n",
      "\tNow applying negate\n",
      "Result is -40\n"
     ]
    }
   ],
   "source": [
    "def double(x):\n",
    "    return x * 2\n",
    "\n",
    "def negate(y):\n",
    "    return -y\n",
    "\n",
    "to_do = [double, negate]   # list of functions!\n",
    "\n",
    "numbers = [5, 10, 20]\n",
    "\n",
    "for one_number in numbers:\n",
    "    for one_func in to_do:\n",
    "        print(f'\\tNow applying {one_func.__name__}')\n",
    "        one_number = one_func(one_number)\n",
    "    print(f'Result is {one_number}')"
   ]
  },
  {
   "cell_type": "markdown",
   "metadata": {},
   "source": [
    "# Functions as arguments\n",
    "\n",
    "We can write a function that takes a function as an argument, just as `sorted` does.  That is:\n",
    "We can have default functionality, which is overridden by the user.  Or we can expect/require the user to tell us what to do.  "
   ]
  },
  {
   "cell_type": "code",
   "execution_count": 47,
   "metadata": {},
   "outputs": [],
   "source": [
    "def double(x):\n",
    "    return x * 2\n",
    "\n",
    "def negate(y):\n",
    "    return -y\n",
    "\n",
    "def operate_on_user_input(func):\n",
    "    \"\"\"This function takes one argument, func, which must itself be\n",
    "    a function that accepts one numeric argument and returns a numeric result.\n",
    "    \"\"\"\n",
    "    s = int(input('Enter a number: ').strip())\n",
    "    \n",
    "    return func(s)   # apply the function that the user provided to s, and return it"
   ]
  },
  {
   "cell_type": "code",
   "execution_count": 49,
   "metadata": {},
   "outputs": [
    {
     "name": "stdout",
     "output_type": "stream",
     "text": [
      "Enter a number: 5\n"
     ]
    },
    {
     "data": {
      "text/plain": [
       "-5"
      ]
     },
     "execution_count": 49,
     "metadata": {},
     "output_type": "execute_result"
    }
   ],
   "source": [
    "operate_on_user_input(negate)  "
   ]
  },
  {
   "cell_type": "code",
   "execution_count": 46,
   "metadata": {},
   "outputs": [
    {
     "name": "stdout",
     "output_type": "stream",
     "text": [
      "Enter a number: 10\n"
     ]
    },
    {
     "data": {
      "text/plain": [
       "20"
      ]
     },
     "execution_count": 46,
     "metadata": {},
     "output_type": "execute_result"
    }
   ],
   "source": [
    "operate_on_user_input(double)  "
   ]
  },
  {
   "cell_type": "markdown",
   "metadata": {},
   "source": [
    "# Exercise: apply_to_file\n",
    "\n",
    "1. Write a function, `apply_to_file`, that takes two arguments:\n",
    "- `func`, a function\n",
    "- `filename`, a string\n",
    "2. The result of the function should be the result of running `apply_to_file` on the file object.  \n",
    "3. That is, `apply_to_file` will open the file named in `filename`, and will pass that file object to `func`.  Whatever `func` returns is what `apply_to_file` returns.\n",
    "\n",
    "Bonus credit: Let the function take any number of filenames, and it'll return a list of results, one for each filename it got."
   ]
  },
  {
   "cell_type": "code",
   "execution_count": 50,
   "metadata": {},
   "outputs": [],
   "source": [
    "def count_vowels_in_file(f):\n",
    "    total = 0\n",
    "    for one_line in f:\n",
    "        for one_character in one_line.lower():\n",
    "            if one_character in 'aeiou':\n",
    "                total += 1\n",
    "    return total\n",
    "\n",
    "def apply_to_file(func, filename):\n",
    "    return func(open(filename))"
   ]
  },
  {
   "cell_type": "code",
   "execution_count": 51,
   "metadata": {},
   "outputs": [
    {
     "data": {
      "text/plain": [
       "1845"
      ]
     },
     "execution_count": 51,
     "metadata": {},
     "output_type": "execute_result"
    }
   ],
   "source": [
    "apply_to_file(count_vowels_in_file, '/etc/passwd')"
   ]
  },
  {
   "cell_type": "code",
   "execution_count": 53,
   "metadata": {},
   "outputs": [
    {
     "data": {
      "text/plain": [
       "[1845, 21235, 19]"
      ]
     },
     "execution_count": 53,
     "metadata": {},
     "output_type": "execute_result"
    }
   ],
   "source": [
    "# first round, probably easier to understand\n",
    "\n",
    "def apply_to_file(func, *args):\n",
    "    output = []\n",
    "    for one_filename in args:\n",
    "        output.append(func(open(one_filename)))\n",
    "    return output\n",
    "\n",
    "apply_to_file(count_vowels_in_file, '/etc/passwd', 'alice-in-wonderland.txt', 'config.txt')"
   ]
  },
  {
   "cell_type": "code",
   "execution_count": 54,
   "metadata": {},
   "outputs": [
    {
     "data": {
      "text/plain": [
       "[1845, 21235, 19]"
      ]
     },
     "execution_count": 54,
     "metadata": {},
     "output_type": "execute_result"
    }
   ],
   "source": [
    "# better, with a list comprehension\n",
    "\n",
    "def apply_to_file(func, *args):\n",
    "    return [func(open(one_filename))\n",
    "           for one_filename in args]\n",
    "\n",
    "apply_to_file(count_vowels_in_file, '/etc/passwd', 'alice-in-wonderland.txt', 'config.txt')"
   ]
  },
  {
   "cell_type": "code",
   "execution_count": 55,
   "metadata": {},
   "outputs": [
    {
     "data": {
      "text/plain": [
       "{'/etc/passwd': 1845, 'alice-in-wonderland.txt': 21235, 'config.txt': 19}"
      ]
     },
     "execution_count": 55,
     "metadata": {},
     "output_type": "execute_result"
    }
   ],
   "source": [
    "# return a dict, with keys being filenames and values being vowel counts\n",
    "\n",
    "def apply_to_file(func, *args):\n",
    "    return {one_filename : func(open(one_filename))\n",
    "           for one_filename in args}\n",
    "\n",
    "apply_to_file(count_vowels_in_file, '/etc/passwd', 'alice-in-wonderland.txt', 'config.txt')"
   ]
  },
  {
   "cell_type": "code",
   "execution_count": 58,
   "metadata": {},
   "outputs": [],
   "source": [
    "def get_file_size(f):\n",
    "    total = 0\n",
    "    for one_line in f:\n",
    "        total += len(one_line)\n",
    "    return total"
   ]
  },
  {
   "cell_type": "code",
   "execution_count": 59,
   "metadata": {},
   "outputs": [
    {
     "data": {
      "text/plain": [
       "{'/etc/passwd': 7630, 'alice-in-wonderland.txt': 72998, 'config.txt': 109}"
      ]
     },
     "execution_count": 59,
     "metadata": {},
     "output_type": "execute_result"
    }
   ],
   "source": [
    "apply_to_file(get_file_size, '/etc/passwd', 'alice-in-wonderland.txt', 'config.txt')"
   ]
  },
  {
   "cell_type": "markdown",
   "metadata": {},
   "source": [
    "# Next up\n",
    "\n",
    "- Dispatch tables\n",
    "- Partial functions"
   ]
  },
  {
   "cell_type": "code",
   "execution_count": 60,
   "metadata": {},
   "outputs": [],
   "source": [
    "# Return at :15"
   ]
  },
  {
   "cell_type": "code",
   "execution_count": 61,
   "metadata": {},
   "outputs": [
    {
     "name": "stdout",
     "output_type": "stream",
     "text": [
      "Enter a choice: a\n",
      "Hello from A!\n",
      "Enter a choice: b\n",
      "Hello from B!\n",
      "Enter a choice: a\n",
      "Hello from A!\n",
      "Enter a choice: c\n",
      "Bad choice c\n",
      "Enter a choice: \n"
     ]
    }
   ],
   "source": [
    "def a():\n",
    "    return f'Hello from A!'\n",
    "\n",
    "def b():\n",
    "    return f'Hello from B!'\n",
    "\n",
    "# I want to let people choose which function we're going to run for them\n",
    "\n",
    "while True:\n",
    "    s = input('Enter a choice: ').strip()\n",
    "    \n",
    "    if not s:   # empty string? break!\n",
    "        break\n",
    "        \n",
    "    if s == 'a':\n",
    "        print(a())\n",
    "    elif s == 'b':\n",
    "        print(b())\n",
    "    else:\n",
    "        print(f'Bad choice {s}')\n",
    "        \n",
    "        "
   ]
  },
  {
   "cell_type": "code",
   "execution_count": 63,
   "metadata": {},
   "outputs": [
    {
     "name": "stdout",
     "output_type": "stream",
     "text": [
      "Enter a choice: a\n",
      "Hello from A!\n",
      "Enter a choice: b\n",
      "Hello from B!\n",
      "Enter a choice: c\n",
      "Bad choice c\n",
      "Enter a choice: \n"
     ]
    }
   ],
   "source": [
    "def a():\n",
    "    return f'Hello from A!'\n",
    "\n",
    "def b():\n",
    "    return f'Hello from B!'\n",
    "\n",
    "# dispatch table\n",
    "choices = {'a':a,   # keys are strings, values are functions\n",
    "           'b':b}\n",
    "\n",
    "while True:\n",
    "    s = input('Enter a choice: ').strip()\n",
    "    \n",
    "    if not s:   # empty string? break!\n",
    "        break\n",
    "        \n",
    "    if s in choices:\n",
    "        print(choices[s]())\n",
    "\n",
    "    else:\n",
    "        print(f'Bad choice {s}')\n"
   ]
  },
  {
   "cell_type": "markdown",
   "metadata": {},
   "source": [
    "# Exercise: Calculator\n",
    "\n",
    "1. Write two functions, `add` and `sub`, each of which takes two arguments and either adds the numbers or subtracts them, returning the result.\n",
    "2. Create a dispatch table that will allow you to choose from these functions.\n",
    "3. Ask the user, repeatedly, to enter a simple math equation with `+` or `-`, such as `2 + 2` or `10 - 3`.\n",
    "4. Use the dispatch table and the operator to print the result.\n",
    "5. When the user enters an empty string, stop asking.\n",
    "6. If the user enters an invalid operator, scold them.  (Similarly, if they enter a non-number, if you want to check for them.)"
   ]
  },
  {
   "cell_type": "code",
   "execution_count": 64,
   "metadata": {},
   "outputs": [],
   "source": [
    "# https://github.com/reuven/live-functional/blob/main/lerner%20-%202021-09sep-26.ipynb"
   ]
  },
  {
   "cell_type": "code",
   "execution_count": 67,
   "metadata": {},
   "outputs": [
    {
     "name": "stdout",
     "output_type": "stream",
     "text": [
      "Enter math expression: 3 * 5\n",
      "15\n",
      "Enter math expression: \n"
     ]
    }
   ],
   "source": [
    "def add(a, b):\n",
    "    return a + b\n",
    "\n",
    "def sub(a, b):\n",
    "    return a - b\n",
    "\n",
    "def mul(a, b):\n",
    "    return a * b\n",
    "\n",
    "choices = {'+':add,\n",
    "           '-':sub,\n",
    "          '*':mul}\n",
    "\n",
    "while s := input('Enter math expression: ').strip():\n",
    "    \n",
    "    first, op, second = s.split()\n",
    "    \n",
    "    if op in choices:\n",
    "        try:\n",
    "            print(choices[op](int(first), int(second)))\n",
    "        except ValueError:\n",
    "            print(f'You must use numbers!  Try again.')\n",
    "    else:\n",
    "        print(f'Operator {op} is not supported yet -- wait for version 2!')\n",
    "        \n",
    "    \n",
    "    "
   ]
  },
  {
   "cell_type": "code",
   "execution_count": 68,
   "metadata": {},
   "outputs": [
    {
     "ename": "SyntaxError",
     "evalue": "invalid syntax (<ipython-input-68-8e6fe480c022>, line 20)",
     "output_type": "error",
     "traceback": [
      "\u001b[0;36m  File \u001b[0;32m\"<ipython-input-68-8e6fe480c022>\"\u001b[0;36m, line \u001b[0;32m20\u001b[0m\n\u001b[0;31m    while s = input('Enter math expression: ').strip():\u001b[0m\n\u001b[0m            ^\u001b[0m\n\u001b[0;31mSyntaxError\u001b[0m\u001b[0;31m:\u001b[0m invalid syntax\n"
     ]
    }
   ],
   "source": [
    "def add(a, b):\n",
    "    return a + b\n",
    "\n",
    "def sub(a, b):\n",
    "    return a - b\n",
    "\n",
    "def mul(a, b):\n",
    "    return a * b\n",
    "\n",
    "choices = {'+':add,\n",
    "           '-':sub,\n",
    "          '*':mul}\n",
    "\n",
    "# for years, we knew that\n",
    "# (1) we want to exit the loop when the user gives us an empty string\n",
    "# (2) the empty string is considered \"False\" in a boolean context, including a \"while\" loop\n",
    "\n",
    "# so why not do this:\n",
    "\n",
    "while s = input('Enter math expression: ').strip():\n",
    "    \n",
    "    first, op, second = s.split()\n",
    "    \n",
    "    if op in choices:\n",
    "        try:\n",
    "            print(choices[op](int(first), int(second)))\n",
    "        except ValueError:\n",
    "            print(f'You must use numbers!  Try again.')\n",
    "    else:\n",
    "        print(f'Operator {op} is not supported yet -- wait for version 2!')\n",
    "        \n",
    "    \n",
    "    "
   ]
  },
  {
   "cell_type": "code",
   "execution_count": null,
   "metadata": {},
   "outputs": [],
   "source": []
  }
 ],
 "metadata": {
  "kernelspec": {
   "display_name": "Python 3",
   "language": "python",
   "name": "python3"
  },
  "language_info": {
   "codemirror_mode": {
    "name": "ipython",
    "version": 3
   },
   "file_extension": ".py",
   "mimetype": "text/x-python",
   "name": "python",
   "nbconvert_exporter": "python",
   "pygments_lexer": "ipython3",
   "version": "3.9.7"
  }
 },
 "nbformat": 4,
 "nbformat_minor": 4
}
